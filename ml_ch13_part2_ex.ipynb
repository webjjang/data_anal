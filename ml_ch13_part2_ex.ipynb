{
  "cells": [
    {
      "cell_type": "markdown",
      "metadata": {
        "id": "view-in-github",
        "colab_type": "text"
      },
      "source": [
        "<a href=\"https://colab.research.google.com/github/webjjang/data_anal/blob/main/ml_ch13_part2_ex.ipynb\" target=\"_parent\"><img src=\"https://colab.research.google.com/assets/colab-badge.svg\" alt=\"Open In Colab\"/></a>"
      ]
    },
    {
      "cell_type": "code",
      "execution_count": null,
      "id": "dda8ca1b-e4cb-4b99-b81b-7a1d3ccd4623",
      "metadata": {
        "id": "dda8ca1b-e4cb-4b99-b81b-7a1d3ccd4623"
      },
      "outputs": [],
      "source": [
        "# 필요한 라이브러리 import\n",
        "import tensorflow as tf\n",
        "import numpy as np\n",
        "import matplotlib.pyplot as plt"
      ]
    },
    {
      "cell_type": "code",
      "execution_count": null,
      "id": "c3db1076-ad64-40b7-86f0-bcc05626844c",
      "metadata": {
        "id": "c3db1076-ad64-40b7-86f0-bcc05626844c",
        "outputId": "680b249a-3c96-495f-9dce-a85b900b9bd8"
      },
      "outputs": [
        {
          "data": {
            "image/png": "[encoded data removed]",
            "text/plain": [
              "<Figure size 640x480 with 1 Axes>"
            ]
          },
          "metadata": {},
          "output_type": "display_data"
        }
      ],
      "source": [
        "# 간단한 데이터 셋 만들기와 시각화\n",
        "\n",
        "# 0~9까지의 숫자를 만들어 2차 행렬로 만듬.\n",
        "X_train = np.arange(10).reshape((10, 1))\n",
        "# y의 값을 1~9 사이의 값 - 선형이 되도록 세팅\n",
        "y_train = np.array([1.0, 1.3, 3.1,\n",
        "                    2.0, 5.0, 6.3,\n",
        "                    6.6, 7.4, 8.0,\n",
        "                    9.0])\n",
        "\n",
        "\n",
        "plt.plot(X_train, y_train, 'o', markersize=10)\n",
        "plt.xlabel('x')\n",
        "plt.ylabel('y')\n",
        "# plt.savefig('images/13_5.png', dpi=300)\n",
        "plt.show()"
      ]
    },
    {
      "cell_type": "code",
      "execution_count": null,
      "id": "de3d6190-8b74-4a42-ae12-a19422565b12",
      "metadata": {
        "id": "de3d6190-8b74-4a42-ae12-a19422565b12",
        "outputId": "647c2a68-cd3c-4652-fa17-df1a1c17feb1"
      },
      "outputs": [
        {
          "name": "stdout",
          "output_type": "stream",
          "text": [
            "[[0]\n",
            " [1]\n",
            " [2]\n",
            " [3]\n",
            " [4]\n",
            " [5]\n",
            " [6]\n",
            " [7]\n",
            " [8]\n",
            " [9]]\n",
            "[[-1.5666989 ]\n",
            " [-1.21854359]\n",
            " [-0.87038828]\n",
            " [-0.52223297]\n",
            " [-0.17407766]\n",
            " [ 0.17407766]\n",
            " [ 0.52223297]\n",
            " [ 0.87038828]\n",
            " [ 1.21854359]\n",
            " [ 1.5666989 ]]\n",
            "<_TensorSliceDataset element_spec=(TensorSpec(shape=(1,), dtype=tf.float32, name=None), TensorSpec(shape=(), dtype=tf.float32, name=None))>\n"
          ]
        }
      ],
      "source": [
        "# 데이터 값의 표준화와 tf의 데이터셋 만들기\n",
        "\n",
        "# X의 값들에 대해 표준화(평균이 0, 표준 편차가 1) 값을 구함.\n",
        "\"\"\"\n",
        "X_train: 입력 데이터 (예: 이미지, 특성 벡터 등)\n",
        "np.mean(X_train): 전체 평균\n",
        "np.std(X_train): 전체 표준편차\n",
        "➡️ 각 특성 값을 평균 0, 표준편차 1로 맞추는 표준화 (Standardization) 작업입니다.\n",
        "\"\"\"\n",
        "X_train_norm = (X_train - np.mean(X_train))/np.std(X_train)\n",
        "\n",
        "print(X_train)\n",
        "print(X_train_norm)\n",
        "\"\"\"\n",
        "from_tensor_slices(...): NumPy 배열을 TensorFlow Dataset 객체로 변환\n",
        "tf.cast(..., tf.float32): 자료형을 float32로 변환 (모델 학습에 적합한 형식)\n",
        "➡️ 이렇게 만든 ds_train_orig는 Keras 모델 학습 시 model.fit()에 직접 넣을 수 있는 데이터 파이프라인이 됩니다.\n",
        "orig - original : 원본 데이터 셋\n",
        "\"\"\"\n",
        "ds_train_orig = tf.data.Dataset.from_tensor_slices(\n",
        "    (tf.cast(X_train_norm, tf.float32),\n",
        "     tf.cast(y_train, tf.float32)))\n",
        "print(ds_train_orig)"
      ]
    },
    {
      "cell_type": "code",
      "execution_count": null,
      "id": "9594f1d9-74e7-49fa-9745-8fe1a6f23ef4",
      "metadata": {
        "id": "9594f1d9-74e7-49fa-9745-8fe1a6f23ef4",
        "outputId": "7d5e1312-61b7-48e8-b9ab-3144441625a4"
      },
      "outputs": [
        {
          "data": {
            "text/html": [
              "<pre style=\"white-space:pre;overflow-x:auto;line-height:normal;font-family:Menlo,'DejaVu Sans Mono',consolas,'Courier New',monospace\"><span style=\"font-weight: bold\">Model: \"my_model_1\"</span>\n",
              "</pre>\n"
            ],
            "text/plain": [
              "\u001b[1mModel: \"my_model_1\"\u001b[0m\n"
            ]
          },
          "metadata": {},
          "output_type": "display_data"
        },
        {
          "data": {
            "text/html": [
              "<pre style=\"white-space:pre;overflow-x:auto;line-height:normal;font-family:Menlo,'DejaVu Sans Mono',consolas,'Courier New',monospace\">┏━━━━━━━━━━━━━━━━━━━━━━━━━━━━━━━━━━━━━━┳━━━━━━━━━━━━━━━━━━━━━━━━━━━━━┳━━━━━━━━━━━━━━━━━┓\n",
              "┃<span style=\"font-weight: bold\"> Layer (type)                         </span>┃<span style=\"font-weight: bold\"> Output Shape                </span>┃<span style=\"font-weight: bold\">         Param # </span>┃\n",
              "┡━━━━━━━━━━━━━━━━━━━━━━━━━━━━━━━━━━━━━━╇━━━━━━━━━━━━━━━━━━━━━━━━━━━━━╇━━━━━━━━━━━━━━━━━┩\n",
              "└──────────────────────────────────────┴─────────────────────────────┴─────────────────┘\n",
              "</pre>\n"
            ],
            "text/plain": [
              "┏━━━━━━━━━━━━━━━━━━━━━━━━━━━━━━━━━━━━━━┳━━━━━━━━━━━━━━━━━━━━━━━━━━━━━┳━━━━━━━━━━━━━━━━━┓\n",
              "┃\u001b[1m \u001b[0m\u001b[1mLayer (type)                        \u001b[0m\u001b[1m \u001b[0m┃\u001b[1m \u001b[0m\u001b[1mOutput Shape               \u001b[0m\u001b[1m \u001b[0m┃\u001b[1m \u001b[0m\u001b[1m        Param #\u001b[0m\u001b[1m \u001b[0m┃\n",
              "┡━━━━━━━━━━━━━━━━━━━━━━━━━━━━━━━━━━━━━━╇━━━━━━━━━━━━━━━━━━━━━━━━━━━━━╇━━━━━━━━━━━━━━━━━┩\n",
              "└──────────────────────────────────────┴─────────────────────────────┴─────────────────┘\n"
            ]
          },
          "metadata": {},
          "output_type": "display_data"
        },
        {
          "data": {
            "text/html": [
              "<pre style=\"white-space:pre;overflow-x:auto;line-height:normal;font-family:Menlo,'DejaVu Sans Mono',consolas,'Courier New',monospace\"><span style=\"font-weight: bold\"> Total params: </span><span style=\"color: #00af00; text-decoration-color: #00af00\">2</span> (8.00 B)\n",
              "</pre>\n"
            ],
            "text/plain": [
              "\u001b[1m Total params: \u001b[0m\u001b[38;5;34m2\u001b[0m (8.00 B)\n"
            ]
          },
          "metadata": {},
          "output_type": "display_data"
        },
        {
          "data": {
            "text/html": [
              "<pre style=\"white-space:pre;overflow-x:auto;line-height:normal;font-family:Menlo,'DejaVu Sans Mono',consolas,'Courier New',monospace\"><span style=\"font-weight: bold\"> Trainable params: </span><span style=\"color: #00af00; text-decoration-color: #00af00\">2</span> (8.00 B)\n",
              "</pre>\n"
            ],
            "text/plain": [
              "\u001b[1m Trainable params: \u001b[0m\u001b[38;5;34m2\u001b[0m (8.00 B)\n"
            ]
          },
          "metadata": {},
          "output_type": "display_data"
        },
        {
          "data": {
            "text/html": [
              "<pre style=\"white-space:pre;overflow-x:auto;line-height:normal;font-family:Menlo,'DejaVu Sans Mono',consolas,'Courier New',monospace\"><span style=\"font-weight: bold\"> Non-trainable params: </span><span style=\"color: #00af00; text-decoration-color: #00af00\">0</span> (0.00 B)\n",
              "</pre>\n"
            ],
            "text/plain": [
              "\u001b[1m Non-trainable params: \u001b[0m\u001b[38;5;34m0\u001b[0m (0.00 B)\n"
            ]
          },
          "metadata": {},
          "output_type": "display_data"
        }
      ],
      "source": [
        "# 기계학습 모델 만들기와 초기화시키고 구조 확인하기\n",
        "\n",
        "class MyModel(tf.keras.Model):\n",
        "    def __init__(self):\n",
        "        super(MyModel, self).__init__()\n",
        "        \"\"\"\n",
        "        하지만 여기서 중요한 점: tf.Variable을 직접 사용할 경우,\n",
        "        model.summary()는 아무 내용도 출력하지 않을 수 있습니다.\n",
        "\n",
        "        ❗️이유: tf.Variable은 Keras 레이어가 아니기 때문\n",
        "        Keras의 summary()는 내부에 tf.keras.layers.Layer를 포함할 때만\n",
        "        구조(입력, 출력, 파라미터 수)를 보여줍니다.\n",
        "\n",
        "        당신의 모델에는 Dense 같은 레이어가 없고, 그냥 tf.Variable만 있어서\n",
        "        아래처럼 출력될 수 있습니다:\n",
        "        \"\"\"\n",
        "        # self.w = tf.Variable(0.0, name='weight')\n",
        "        # bias - 편향, 편견\n",
        "        # self.b = tf.Variable(0.0, name='bias')\n",
        "\n",
        "        # add_weight를 사용하여 Keras가 추적 가능한 가중치로 등록\n",
        "        self.w = self.add_weight(shape=(1,), initializer='zeros', trainable=True, name='weight')\n",
        "        self.b = self.add_weight(shape=(1,), initializer='zeros', trainable=True, name='bias')\n",
        "\n",
        "    def call(self, x):\n",
        "        return self.w*x + self.b\n",
        "\n",
        "\n",
        "model = MyModel()\n",
        "\n",
        "model.build(input_shape=(None, 1))\n",
        "model.summary()"
      ]
    },
    {
      "cell_type": "code",
      "execution_count": null,
      "id": "ebcdb840-f17c-4e05-bb0b-b156d951018b",
      "metadata": {
        "id": "ebcdb840-f17c-4e05-bb0b-b156d951018b",
        "outputId": "ebb1eb00-ecf0-4639-e56c-beeddca93c94"
      },
      "outputs": [
        {
          "data": {
            "text/plain": [
              "<tf.Tensor: shape=(), dtype=float32, numpy=0.25>"
            ]
          },
          "execution_count": 8,
          "metadata": {},
          "output_type": "execute_result"
        }
      ],
      "source": [
        "# 손실을 구하는 함수\n",
        "\n",
        "def loss_fn(y_true, y_pred):\n",
        "    return tf.reduce_mean(tf.square(y_true - y_pred))\n",
        "\n",
        "\n",
        "## testing the function:\n",
        "yt = tf.convert_to_tensor([1.0])\n",
        "yp = tf.convert_to_tensor([1.5])\n",
        "\n",
        "loss_fn(yt, yp)"
      ]
    },
    {
      "cell_type": "code",
      "execution_count": null,
      "id": "b37e99a2-0f26-40bf-99df-46392df07414",
      "metadata": {
        "id": "b37e99a2-0f26-40bf-99df-46392df07414"
      },
      "outputs": [],
      "source": [
        "# 훈련시키는 함수\n",
        "# 손실을 구해서 가중치와 절편에 적용시킨다.\n",
        "\n",
        "def train(model, inputs, outputs, learning_rate):\n",
        "    with tf.GradientTape() as tape:\n",
        "        current_loss = loss_fn(model(inputs), outputs)\n",
        "    dW, db = tape.gradient(current_loss, [model.w, model.b])\n",
        "    model.w.assign_sub(learning_rate * dW)\n",
        "    model.b.assign_sub(learning_rate * db)"
      ]
    },
    {
      "cell_type": "code",
      "execution_count": null,
      "id": "c6ae91df-aac3-45dd-8bb0-79a3a82ef425",
      "metadata": {
        "id": "c6ae91df-aac3-45dd-8bb0-79a3a82ef425",
        "outputId": "f32ff9ca-b661-4559-ee4e-a608823d28af"
      },
      "outputs": [
        {
          "name": "stdout",
          "output_type": "stream",
          "text": [
            "에포크   0 스텝    0 손실 43.5600\n",
            "에포크  10 스텝  100 손실 0.7530\n",
            "에포크  20 스텝  200 손실 20.1759\n",
            "에포크  30 스텝  300 손실 23.3976\n",
            "에포크  40 스텝  400 손실 6.3481\n",
            "에포크  50 스텝  500 손실 4.6356\n",
            "에포크  60 스텝  600 손실 0.2411\n",
            "에포크  70 스텝  700 손실 0.2036\n",
            "에포크  80 스텝  800 손실 3.8177\n",
            "에포크  90 스텝  900 손실 0.9416\n",
            "에포크 100 스텝 1000 손실 0.7035\n",
            "에포크 110 스텝 1100 손실 0.0348\n",
            "에포크 120 스텝 1200 손실 0.5404\n",
            "에포크 130 스텝 1300 손실 0.1170\n",
            "에포크 140 스텝 1400 손실 0.1195\n",
            "에포크 150 스텝 1500 손실 0.0944\n",
            "에포크 160 스텝 1600 손실 0.4670\n",
            "에포크 170 스텝 1700 손실 2.0695\n",
            "에포크 180 스텝 1800 손실 0.0020\n",
            "에포크 190 스텝 1900 손실 0.3612\n"
          ]
        }
      ],
      "source": [
        "# 기계학습 반복 시키기.\n",
        "\n",
        "tf.random.set_seed(1)\n",
        "\n",
        "num_epochs = 200\n",
        "log_steps = 100\n",
        "learning_rate = 0.001\n",
        "batch_size = 1\n",
        "steps_per_epoch = int(np.ceil(len(y_train) / batch_size))\n",
        "\n",
        "\n",
        "ds_train = ds_train_orig.shuffle(buffer_size=len(y_train))\n",
        "ds_train = ds_train.repeat(count=None)\n",
        "ds_train = ds_train.batch(1)\n",
        "\n",
        "Ws, bs = [], []\n",
        "\n",
        "for i, batch in enumerate(ds_train):\n",
        "    if i >= steps_per_epoch * num_epochs:\n",
        "        break\n",
        "    Ws.append(model.w.numpy())\n",
        "    bs.append(model.b.numpy())\n",
        "\n",
        "    bx, by = batch\n",
        "    loss_val = loss_fn(model(bx), by)\n",
        "\n",
        "    train(model, bx, by, learning_rate=learning_rate)\n",
        "    if i%log_steps==0:\n",
        "        print('에포크 {:3d} 스텝 {:4d} 손실 {:6.4f}'.format(\n",
        "              int(i/steps_per_epoch), i, loss_val))"
      ]
    },
    {
      "cell_type": "code",
      "execution_count": null,
      "id": "9b42b3ee-b8cd-458f-8725-66d5a7eea8dd",
      "metadata": {
        "id": "9b42b3ee-b8cd-458f-8725-66d5a7eea8dd",
        "outputId": "01378681-cce0-4462-a1bc-bfe6f723021a"
      },
      "outputs": [
        {
          "name": "stdout",
          "output_type": "stream",
          "text": [
            "최종 파라미터: [2.6576622] [4.8798566]\n"
          ]
        },
        {
          "data": {
            "image/png": "[encoded data removed]",
            "text/plain": [
              "<Figure size 1300x500 with 2 Axes>"
            ]
          },
          "metadata": {},
          "output_type": "display_data"
        }
      ],
      "source": [
        "# 기계학습한 결과 출력하기\n",
        "# 위에 기계학습 코드를 여러번 실행하면 중간 단계의 학습 결과만 출력되어 그래프가 달라짐.\n",
        "\n",
        "print('최종 파라미터:', model.w.numpy(), model.b.numpy())\n",
        "\n",
        "\n",
        "X_test = np.linspace(0, 9, num=100).reshape(-1, 1)\n",
        "X_test_norm = (X_test - np.mean(X_train)) / np.std(X_train)\n",
        "\n",
        "y_pred = model(tf.cast(X_test_norm, dtype=tf.float32))\n",
        "\n",
        "\n",
        "fig = plt.figure(figsize=(13, 5))\n",
        "ax = fig.add_subplot(1, 2, 1)\n",
        "plt.plot(X_train_norm, y_train, 'o', markersize=10)\n",
        "plt.plot(X_test_norm, y_pred, '--', lw=3)\n",
        "plt.legend(['Training examples', 'Linear Reg.'], fontsize=15)\n",
        "ax.set_xlabel('x', size=15)\n",
        "ax.set_ylabel('y', size=15)\n",
        "ax.tick_params(axis='both', which='major', labelsize=15)\n",
        "\n",
        "ax = fig.add_subplot(1, 2, 2)\n",
        "plt.plot(Ws, lw=3)\n",
        "plt.plot(bs, lw=3)\n",
        "plt.legend(['Weight w', 'Bias unit b'], fontsize=15)\n",
        "ax.set_xlabel('Iteration', size=15)\n",
        "ax.set_ylabel('Value', size=15)\n",
        "ax.tick_params(axis='both', which='major', labelsize=15)\n",
        "\n",
        "# plt.savefig('images/13_6.png', dpi=300)\n",
        "plt.show()"
      ]
    },
    {
      "cell_type": "code",
      "execution_count": null,
      "id": "d7438783-8b70-4896-a73c-f9c2f2bd604d",
      "metadata": {
        "id": "d7438783-8b70-4896-a73c-f9c2f2bd604d"
      },
      "outputs": [],
      "source": [
        "# tf.keras.Model 을 상속받았으므로 초기값 세팅을 위한 compile()와\n",
        "# 훈련함수 fit()을 사용할 수 있음.\n",
        "\n",
        "tf.random.set_seed(1)\n",
        "model = MyModel()\n",
        "#model.build((None, 1))\n",
        "\n",
        "model.compile(optimizer='sgd',\n",
        "              loss=loss_fn,\n",
        "              metrics=['mae', 'mse'])"
      ]
    },
    {
      "cell_type": "code",
      "execution_count": null,
      "id": "5c4fb626-cc48-46fe-91f6-9e9080d5e890",
      "metadata": {
        "id": "5c4fb626-cc48-46fe-91f6-9e9080d5e890",
        "outputId": "350e6883-aa29-4159-ccc7-4537d118c073"
      },
      "outputs": [
        {
          "name": "stdout",
          "output_type": "stream",
          "text": [
            "Epoch 1/200\n",
            "\u001b[1m10/10\u001b[0m \u001b[32m━━━━━━━━━━━━━━━━━━━━\u001b[0m\u001b[37m\u001b[0m \u001b[1m0s\u001b[0m 5ms/step - loss: 24.1936 - mae: 4.2272 - mse: 24.1936\n",
            "Epoch 2/200\n",
            "\u001b[1m10/10\u001b[0m \u001b[32m━━━━━━━━━━━━━━━━━━━━\u001b[0m\u001b[37m\u001b[0m \u001b[1m0s\u001b[0m 4ms/step - loss: 16.3219 - mae: 3.4892 - mse: 16.3219\n",
            "Epoch 3/200\n",
            "\u001b[1m10/10\u001b[0m \u001b[32m━━━━━━━━━━━━━━━━━━━━\u001b[0m\u001b[37m\u001b[0m \u001b[1m0s\u001b[0m 4ms/step - loss: 11.0623 - mae: 2.8868 - mse: 11.0623\n",
            "Epoch 4/200\n",
            "\u001b[1m10/10\u001b[0m \u001b[32m━━━━━━━━━━━━━━━━━━━━\u001b[0m\u001b[37m\u001b[0m \u001b[1m0s\u001b[0m 3ms/step - loss: 7.5438 - mae: 2.3950 - mse: 7.5438 \n",
            "Epoch 5/200\n",
            "\u001b[1m10/10\u001b[0m \u001b[32m━━━━━━━━━━━━━━━━━━━━\u001b[0m\u001b[37m\u001b[0m \u001b[1m0s\u001b[0m 3ms/step - loss: 5.1866 - mae: 2.0062 - mse: 5.1866 \n",
            "Epoch 6/200\n",
            "\u001b[1m10/10\u001b[0m \u001b[32m━━━━━━━━━━━━━━━━━━━━\u001b[0m\u001b[37m\u001b[0m \u001b[1m0s\u001b[0m 4ms/step - loss: 3.6047 - mae: 1.6925 - mse: 3.6047 \n",
            "Epoch 7/200\n",
            "\u001b[1m10/10\u001b[0m \u001b[32m━━━━━━━━━━━━━━━━━━━━\u001b[0m\u001b[37m\u001b[0m \u001b[1m0s\u001b[0m 3ms/step - loss: 2.5408 - mae: 1.4364 - mse: 2.5408 \n",
            "Epoch 8/200\n",
            "\u001b[1m10/10\u001b[0m \u001b[32m━━━━━━━━━━━━━━━━━━━━\u001b[0m\u001b[37m\u001b[0m \u001b[1m0s\u001b[0m 3ms/step - loss: 1.8235 - mae: 1.2274 - mse: 1.8235 \n",
            "Epoch 9/200\n",
            "\u001b[1m10/10\u001b[0m \u001b[32m━━━━━━━━━━━━━━━━━━━━\u001b[0m\u001b[37m\u001b[0m \u001b[1m0s\u001b[0m 3ms/step - loss: 1.3383 - mae: 1.0643 - mse: 1.3383 \n",
            "Epoch 10/200\n",
            "\u001b[1m10/10\u001b[0m \u001b[32m━━━━━━━━━━━━━━━━━━━━\u001b[0m\u001b[37m\u001b[0m \u001b[1m0s\u001b[0m 8ms/step - loss: 1.0091 - mae: 0.9333 - mse: 1.0091 \n",
            "Epoch 11/200\n",
            "\u001b[1m10/10\u001b[0m \u001b[32m━━━━━━━━━━━━━━━━━━━━\u001b[0m\u001b[37m\u001b[0m \u001b[1m0s\u001b[0m 4ms/step - loss: 0.7846 - mae: 0.8263 - mse: 0.7846 \n",
            "Epoch 12/200\n",
            "\u001b[1m10/10\u001b[0m \u001b[32m━━━━━━━━━━━━━━━━━━━━\u001b[0m\u001b[37m\u001b[0m \u001b[1m0s\u001b[0m 3ms/step - loss: 0.6308 - mae: 0.7390 - mse: 0.6308 \n",
            "Epoch 13/200\n",
            "\u001b[1m10/10\u001b[0m \u001b[32m━━━━━━━━━━━━━━━━━━━━\u001b[0m\u001b[37m\u001b[0m \u001b[1m0s\u001b[0m 3ms/step - loss: 0.5249 - mae: 0.6678 - mse: 0.5249 \n",
            "Epoch 14/200\n",
            "\u001b[1m10/10\u001b[0m \u001b[32m━━━━━━━━━━━━━━━━━━━━\u001b[0m\u001b[37m\u001b[0m \u001b[1m0s\u001b[0m 3ms/step - loss: 0.4514 - mae: 0.6097 - mse: 0.4514 \n",
            "Epoch 15/200\n",
            "\u001b[1m10/10\u001b[0m \u001b[32m━━━━━━━━━━━━━━━━━━━━\u001b[0m\u001b[37m\u001b[0m \u001b[1m0s\u001b[0m 3ms/step - loss: 0.4000 - mae: 0.5623 - mse: 0.4000 \n",
            "Epoch 16/200\n",
            "\u001b[1m10/10\u001b[0m \u001b[32m━━━━━━━━━━━━━━━━━━━━\u001b[0m\u001b[37m\u001b[0m \u001b[1m0s\u001b[0m 4ms/step - loss: 0.3639 - mae: 0.5236 - mse: 0.3639 \n",
            "Epoch 17/200\n",
            "\u001b[1m10/10\u001b[0m \u001b[32m━━━━━━━━━━━━━━━━━━━━\u001b[0m\u001b[37m\u001b[0m \u001b[1m0s\u001b[0m 3ms/step - loss: 0.3381 - mae: 0.4921 - mse: 0.3381 \n",
            "Epoch 18/200\n",
            "\u001b[1m10/10\u001b[0m \u001b[32m━━━━━━━━━━━━━━━━━━━━\u001b[0m\u001b[37m\u001b[0m \u001b[1m0s\u001b[0m 3ms/step - loss: 0.3196 - mae: 0.4719 - mse: 0.3196 \n",
            "Epoch 19/200\n",
            "\u001b[1m10/10\u001b[0m \u001b[32m━━━━━━━━━━━━━━━━━━━━\u001b[0m\u001b[37m\u001b[0m \u001b[1m0s\u001b[0m 3ms/step - loss: 0.3062 - mae: 0.4611 - mse: 0.3062 \n",
            "Epoch 20/200\n",
            "\u001b[1m10/10\u001b[0m \u001b[32m━━━━━━━━━━━━━━━━━━━━\u001b[0m\u001b[37m\u001b[0m \u001b[1m0s\u001b[0m 3ms/step - loss: 0.2964 - mae: 0.4568 - mse: 0.2964 \n",
            "Epoch 21/200\n",
            "\u001b[1m10/10\u001b[0m \u001b[32m━━━━━━━━━━━━━━━━━━━━\u001b[0m\u001b[37m\u001b[0m \u001b[1m0s\u001b[0m 3ms/step - loss: 0.2891 - mae: 0.4551 - mse: 0.2891 \n",
            "Epoch 22/200\n",
            "\u001b[1m10/10\u001b[0m \u001b[32m━━━━━━━━━━━━━━━━━━━━\u001b[0m\u001b[37m\u001b[0m \u001b[1m0s\u001b[0m 4ms/step - loss: 0.2836 - mae: 0.4538 - mse: 0.2836 \n",
            "Epoch 23/200\n",
            "\u001b[1m10/10\u001b[0m \u001b[32m━━━━━━━━━━━━━━━━━━━━\u001b[0m\u001b[37m\u001b[0m \u001b[1m0s\u001b[0m 4ms/step - loss: 0.2795 - mae: 0.4526 - mse: 0.2795 \n",
            "Epoch 24/200\n",
            "\u001b[1m10/10\u001b[0m \u001b[32m━━━━━━━━━━━━━━━━━━━━\u001b[0m\u001b[37m\u001b[0m \u001b[1m0s\u001b[0m 4ms/step - loss: 0.2763 - mae: 0.4517 - mse: 0.2763 \n",
            "Epoch 25/200\n",
            "\u001b[1m10/10\u001b[0m \u001b[32m━━━━━━━━━━━━━━━━━━━━\u001b[0m\u001b[37m\u001b[0m \u001b[1m0s\u001b[0m 3ms/step - loss: 0.2739 - mae: 0.4510 - mse: 0.2739 \n",
            "Epoch 26/200\n",
            "\u001b[1m10/10\u001b[0m \u001b[32m━━━━━━━━━━━━━━━━━━━━\u001b[0m\u001b[37m\u001b[0m \u001b[1m0s\u001b[0m 4ms/step - loss: 0.2720 - mae: 0.4503 - mse: 0.2720 \n",
            "Epoch 27/200\n",
            "\u001b[1m10/10\u001b[0m \u001b[32m━━━━━━━━━━━━━━━━━━━━\u001b[0m\u001b[37m\u001b[0m \u001b[1m0s\u001b[0m 3ms/step - loss: 0.2705 - mae: 0.4498 - mse: 0.2705 \n",
            "Epoch 28/200\n",
            "\u001b[1m10/10\u001b[0m \u001b[32m━━━━━━━━━━━━━━━━━━━━\u001b[0m\u001b[37m\u001b[0m \u001b[1m0s\u001b[0m 3ms/step - loss: 0.2693 - mae: 0.4494 - mse: 0.2693 \n",
            "Epoch 29/200\n",
            "\u001b[1m10/10\u001b[0m \u001b[32m━━━━━━━━━━━━━━━━━━━━\u001b[0m\u001b[37m\u001b[0m \u001b[1m0s\u001b[0m 3ms/step - loss: 0.2684 - mae: 0.4490 - mse: 0.2684 \n",
            "Epoch 30/200\n",
            "\u001b[1m10/10\u001b[0m \u001b[32m━━━━━━━━━━━━━━━━━━━━\u001b[0m\u001b[37m\u001b[0m \u001b[1m0s\u001b[0m 3ms/step - loss: 0.2676 - mae: 0.4487 - mse: 0.2676 \n",
            "Epoch 31/200\n",
            "\u001b[1m10/10\u001b[0m \u001b[32m━━━━━━━━━━━━━━━━━━━━\u001b[0m\u001b[37m\u001b[0m \u001b[1m0s\u001b[0m 3ms/step - loss: 0.2670 - mae: 0.4485 - mse: 0.2670 \n",
            "Epoch 32/200\n",
            "\u001b[1m10/10\u001b[0m \u001b[32m━━━━━━━━━━━━━━━━━━━━\u001b[0m\u001b[37m\u001b[0m \u001b[1m0s\u001b[0m 3ms/step - loss: 0.2665 - mae: 0.4483 - mse: 0.2665 \n",
            "Epoch 33/200\n",
            "\u001b[1m10/10\u001b[0m \u001b[32m━━━━━━━━━━━━━━━━━━━━\u001b[0m\u001b[37m\u001b[0m \u001b[1m0s\u001b[0m 3ms/step - loss: 0.2661 - mae: 0.4481 - mse: 0.2661 \n",
            "Epoch 34/200\n",
            "\u001b[1m10/10\u001b[0m \u001b[32m━━━━━━━━━━━━━━━━━━━━\u001b[0m\u001b[37m\u001b[0m \u001b[1m0s\u001b[0m 3ms/step - loss: 0.2658 - mae: 0.4480 - mse: 0.2658 \n",
            "Epoch 35/200\n",
            "\u001b[1m10/10\u001b[0m \u001b[32m━━━━━━━━━━━━━━━━━━━━\u001b[0m\u001b[37m\u001b[0m \u001b[1m0s\u001b[0m 3ms/step - loss: 0.2656 - mae: 0.4479 - mse: 0.2656 \n",
            "Epoch 36/200\n",
            "\u001b[1m10/10\u001b[0m \u001b[32m━━━━━━━━━━━━━━━━━━━━\u001b[0m\u001b[37m\u001b[0m \u001b[1m0s\u001b[0m 3ms/step - loss: 0.2654 - mae: 0.4478 - mse: 0.2654 \n",
            "Epoch 37/200\n",
            "\u001b[1m10/10\u001b[0m \u001b[32m━━━━━━━━━━━━━━━━━━━━\u001b[0m\u001b[37m\u001b[0m \u001b[1m0s\u001b[0m 3ms/step - loss: 0.2652 - mae: 0.4477 - mse: 0.2652 \n",
            "Epoch 38/200\n",
            "\u001b[1m10/10\u001b[0m \u001b[32m━━━━━━━━━━━━━━━━━━━━\u001b[0m\u001b[37m\u001b[0m \u001b[1m0s\u001b[0m 3ms/step - loss: 0.2651 - mae: 0.4476 - mse: 0.2651 \n",
            "Epoch 39/200\n",
            "\u001b[1m10/10\u001b[0m \u001b[32m━━━━━━━━━━━━━━━━━━━━\u001b[0m\u001b[37m\u001b[0m \u001b[1m0s\u001b[0m 5ms/step - loss: 0.2650 - mae: 0.4476 - mse: 0.2650 \n",
            "Epoch 40/200\n",
            "\u001b[1m10/10\u001b[0m \u001b[32m━━━━━━━━━━━━━━━━━━━━\u001b[0m\u001b[37m\u001b[0m \u001b[1m0s\u001b[0m 4ms/step - loss: 0.2649 - mae: 0.4475 - mse: 0.2649 \n",
            "Epoch 41/200\n",
            "\u001b[1m10/10\u001b[0m \u001b[32m━━━━━━━━━━━━━━━━━━━━\u001b[0m\u001b[37m\u001b[0m \u001b[1m0s\u001b[0m 3ms/step - loss: 0.2648 - mae: 0.4475 - mse: 0.2648 \n",
            "Epoch 42/200\n",
            "\u001b[1m10/10\u001b[0m \u001b[32m━━━━━━━━━━━━━━━━━━━━\u001b[0m\u001b[37m\u001b[0m \u001b[1m0s\u001b[0m 3ms/step - loss: 0.2647 - mae: 0.4475 - mse: 0.2647 \n",
            "Epoch 43/200\n",
            "\u001b[1m10/10\u001b[0m \u001b[32m━━━━━━━━━━━━━━━━━━━━\u001b[0m\u001b[37m\u001b[0m \u001b[1m0s\u001b[0m 3ms/step - loss: 0.2647 - mae: 0.4475 - mse: 0.2647 \n",
            "Epoch 44/200\n",
            "\u001b[1m10/10\u001b[0m \u001b[32m━━━━━━━━━━━━━━━━━━━━\u001b[0m\u001b[37m\u001b[0m \u001b[1m0s\u001b[0m 3ms/step - loss: 0.2646 - mae: 0.4474 - mse: 0.2646 \n",
            "Epoch 45/200\n",
            "\u001b[1m10/10\u001b[0m \u001b[32m━━━━━━━━━━━━━━━━━━━━\u001b[0m\u001b[37m\u001b[0m \u001b[1m0s\u001b[0m 3ms/step - loss: 0.2646 - mae: 0.4474 - mse: 0.2646 \n",
            "Epoch 46/200\n",
            "\u001b[1m10/10\u001b[0m \u001b[32m━━━━━━━━━━━━━━━━━━━━\u001b[0m\u001b[37m\u001b[0m \u001b[1m0s\u001b[0m 3ms/step - loss: 0.2646 - mae: 0.4474 - mse: 0.2646 \n",
            "Epoch 47/200\n",
            "\u001b[1m10/10\u001b[0m \u001b[32m━━━━━━━━━━━━━━━━━━━━\u001b[0m\u001b[37m\u001b[0m \u001b[1m0s\u001b[0m 3ms/step - loss: 0.2646 - mae: 0.4474 - mse: 0.2646 \n",
            "Epoch 48/200\n",
            "\u001b[1m10/10\u001b[0m \u001b[32m━━━━━━━━━━━━━━━━━━━━\u001b[0m\u001b[37m\u001b[0m \u001b[1m0s\u001b[0m 3ms/step - loss: 0.2645 - mae: 0.4474 - mse: 0.2645 \n",
            "Epoch 49/200\n",
            "\u001b[1m10/10\u001b[0m \u001b[32m━━━━━━━━━━━━━━━━━━━━\u001b[0m\u001b[37m\u001b[0m \u001b[1m0s\u001b[0m 3ms/step - loss: 0.2645 - mae: 0.4474 - mse: 0.2645 \n",
            "Epoch 50/200\n",
            "\u001b[1m10/10\u001b[0m \u001b[32m━━━━━━━━━━━━━━━━━━━━\u001b[0m\u001b[37m\u001b[0m \u001b[1m0s\u001b[0m 4ms/step - loss: 0.2645 - mae: 0.4474 - mse: 0.2645 \n",
            "Epoch 51/200\n",
            "\u001b[1m10/10\u001b[0m \u001b[32m━━━━━━━━━━━━━━━━━━━━\u001b[0m\u001b[37m\u001b[0m \u001b[1m0s\u001b[0m 3ms/step - loss: 0.2645 - mae: 0.4474 - mse: 0.2645 \n",
            "Epoch 52/200\n",
            "\u001b[1m10/10\u001b[0m \u001b[32m━━━━━━━━━━━━━━━━━━━━\u001b[0m\u001b[37m\u001b[0m \u001b[1m0s\u001b[0m 4ms/step - loss: 0.2645 - mae: 0.4474 - mse: 0.2645 \n",
            "Epoch 53/200\n",
            "\u001b[1m10/10\u001b[0m \u001b[32m━━━━━━━━━━━━━━━━━━━━\u001b[0m\u001b[37m\u001b[0m \u001b[1m0s\u001b[0m 3ms/step - loss: 0.2645 - mae: 0.4474 - mse: 0.2645 \n",
            "Epoch 54/200\n",
            "\u001b[1m10/10\u001b[0m \u001b[32m━━━━━━━━━━━━━━━━━━━━\u001b[0m\u001b[37m\u001b[0m \u001b[1m0s\u001b[0m 3ms/step - loss: 0.2645 - mae: 0.4474 - mse: 0.2645 \n",
            "Epoch 55/200\n",
            "\u001b[1m10/10\u001b[0m \u001b[32m━━━━━━━━━━━━━━━━━━━━\u001b[0m\u001b[37m\u001b[0m \u001b[1m0s\u001b[0m 3ms/step - loss: 0.2645 - mae: 0.4474 - mse: 0.2645 \n",
            "Epoch 56/200\n",
            "\u001b[1m10/10\u001b[0m \u001b[32m━━━━━━━━━━━━━━━━━━━━\u001b[0m\u001b[37m\u001b[0m \u001b[1m0s\u001b[0m 4ms/step - loss: 0.2645 - mae: 0.4474 - mse: 0.2645 \n",
            "Epoch 57/200\n",
            "\u001b[1m10/10\u001b[0m \u001b[32m━━━━━━━━━━━━━━━━━━━━\u001b[0m\u001b[37m\u001b[0m \u001b[1m0s\u001b[0m 4ms/step - loss: 0.2645 - mae: 0.4474 - mse: 0.2645 \n",
            "Epoch 58/200\n",
            "\u001b[1m10/10\u001b[0m \u001b[32m━━━━━━━━━━━━━━━━━━━━\u001b[0m\u001b[37m\u001b[0m \u001b[1m0s\u001b[0m 7ms/step - loss: 0.2645 - mae: 0.4474 - mse: 0.2645 \n",
            "Epoch 59/200\n",
            "\u001b[1m10/10\u001b[0m \u001b[32m━━━━━━━━━━━━━━━━━━━━\u001b[0m\u001b[37m\u001b[0m \u001b[1m0s\u001b[0m 4ms/step - loss: 0.2645 - mae: 0.4474 - mse: 0.2645 \n",
            "Epoch 60/200\n",
            "\u001b[1m10/10\u001b[0m \u001b[32m━━━━━━━━━━━━━━━━━━━━\u001b[0m\u001b[37m\u001b[0m \u001b[1m0s\u001b[0m 4ms/step - loss: 0.2645 - mae: 0.4474 - mse: 0.2645 \n",
            "Epoch 61/200\n",
            "\u001b[1m10/10\u001b[0m \u001b[32m━━━━━━━━━━━━━━━━━━━━\u001b[0m\u001b[37m\u001b[0m \u001b[1m0s\u001b[0m 4ms/step - loss: 0.2645 - mae: 0.4474 - mse: 0.2645 \n",
            "Epoch 62/200\n",
            "\u001b[1m10/10\u001b[0m \u001b[32m━━━━━━━━━━━━━━━━━━━━\u001b[0m\u001b[37m\u001b[0m \u001b[1m0s\u001b[0m 4ms/step - loss: 0.2645 - mae: 0.4473 - mse: 0.2645 \n",
            "Epoch 63/200\n",
            "\u001b[1m10/10\u001b[0m \u001b[32m━━━━━━━━━━━━━━━━━━━━\u001b[0m\u001b[37m\u001b[0m \u001b[1m0s\u001b[0m 3ms/step - loss: 0.2645 - mae: 0.4473 - mse: 0.2645 \n",
            "Epoch 64/200\n",
            "\u001b[1m10/10\u001b[0m \u001b[32m━━━━━━━━━━━━━━━━━━━━\u001b[0m\u001b[37m\u001b[0m \u001b[1m0s\u001b[0m 3ms/step - loss: 0.2645 - mae: 0.4473 - mse: 0.2645 \n",
            "Epoch 65/200\n",
            "\u001b[1m10/10\u001b[0m \u001b[32m━━━━━━━━━━━━━━━━━━━━\u001b[0m\u001b[37m\u001b[0m \u001b[1m0s\u001b[0m 3ms/step - loss: 0.2645 - mae: 0.4473 - mse: 0.2645 \n",
            "Epoch 66/200\n",
            "\u001b[1m10/10\u001b[0m \u001b[32m━━━━━━━━━━━━━━━━━━━━\u001b[0m\u001b[37m\u001b[0m \u001b[1m0s\u001b[0m 3ms/step - loss: 0.2645 - mae: 0.4473 - mse: 0.2645 \n",
            "Epoch 67/200\n",
            "\u001b[1m10/10\u001b[0m \u001b[32m━━━━━━━━━━━━━━━━━━━━\u001b[0m\u001b[37m\u001b[0m \u001b[1m0s\u001b[0m 3ms/step - loss: 0.2645 - mae: 0.4473 - mse: 0.2645 \n",
            "Epoch 68/200\n",
            "\u001b[1m10/10\u001b[0m \u001b[32m━━━━━━━━━━━━━━━━━━━━\u001b[0m\u001b[37m\u001b[0m \u001b[1m0s\u001b[0m 3ms/step - loss: 0.2645 - mae: 0.4473 - mse: 0.2645 \n",
            "Epoch 69/200\n",
            "\u001b[1m10/10\u001b[0m \u001b[32m━━━━━━━━━━━━━━━━━━━━\u001b[0m\u001b[37m\u001b[0m \u001b[1m0s\u001b[0m 3ms/step - loss: 0.2645 - mae: 0.4473 - mse: 0.2645 \n",
            "Epoch 70/200\n",
            "\u001b[1m10/10\u001b[0m \u001b[32m━━━━━━━━━━━━━━━━━━━━\u001b[0m\u001b[37m\u001b[0m \u001b[1m0s\u001b[0m 4ms/step - loss: 0.2645 - mae: 0.4473 - mse: 0.2645 \n",
            "Epoch 71/200\n",
            "\u001b[1m10/10\u001b[0m \u001b[32m━━━━━━━━━━━━━━━━━━━━\u001b[0m\u001b[37m\u001b[0m \u001b[1m0s\u001b[0m 3ms/step - loss: 0.2645 - mae: 0.4473 - mse: 0.2645 \n",
            "Epoch 72/200\n",
            "\u001b[1m10/10\u001b[0m \u001b[32m━━━━━━━━━━━━━━━━━━━━\u001b[0m\u001b[37m\u001b[0m \u001b[1m0s\u001b[0m 5ms/step - loss: 0.2645 - mae: 0.4473 - mse: 0.2645 \n",
            "Epoch 73/200\n",
            "\u001b[1m10/10\u001b[0m \u001b[32m━━━━━━━━━━━━━━━━━━━━\u001b[0m\u001b[37m\u001b[0m \u001b[1m0s\u001b[0m 5ms/step - loss: 0.2645 - mae: 0.4473 - mse: 0.2645 \n",
            "Epoch 74/200\n",
            "\u001b[1m10/10\u001b[0m \u001b[32m━━━━━━━━━━━━━━━━━━━━\u001b[0m\u001b[37m\u001b[0m \u001b[1m0s\u001b[0m 3ms/step - loss: 0.2645 - mae: 0.4473 - mse: 0.2645 \n",
            "Epoch 75/200\n",
            "\u001b[1m10/10\u001b[0m \u001b[32m━━━━━━━━━━━━━━━━━━━━\u001b[0m\u001b[37m\u001b[0m \u001b[1m0s\u001b[0m 4ms/step - loss: 0.2645 - mae: 0.4473 - mse: 0.2645 \n",
            "Epoch 76/200\n",
            "\u001b[1m10/10\u001b[0m \u001b[32m━━━━━━━━━━━━━━━━━━━━\u001b[0m\u001b[37m\u001b[0m \u001b[1m0s\u001b[0m 3ms/step - loss: 0.2645 - mae: 0.4473 - mse: 0.2645 \n",
            "Epoch 77/200\n",
            "\u001b[1m10/10\u001b[0m \u001b[32m━━━━━━━━━━━━━━━━━━━━\u001b[0m\u001b[37m\u001b[0m \u001b[1m0s\u001b[0m 4ms/step - loss: 0.2645 - mae: 0.4473 - mse: 0.2645 \n",
            "Epoch 78/200\n",
            "\u001b[1m10/10\u001b[0m \u001b[32m━━━━━━━━━━━━━━━━━━━━\u001b[0m\u001b[37m\u001b[0m \u001b[1m0s\u001b[0m 3ms/step - loss: 0.2645 - mae: 0.4473 - mse: 0.2645 \n",
            "Epoch 79/200\n",
            "\u001b[1m10/10\u001b[0m \u001b[32m━━━━━━━━━━━━━━━━━━━━\u001b[0m\u001b[37m\u001b[0m \u001b[1m0s\u001b[0m 3ms/step - loss: 0.2645 - mae: 0.4473 - mse: 0.2645 \n",
            "Epoch 80/200\n",
            "\u001b[1m10/10\u001b[0m \u001b[32m━━━━━━━━━━━━━━━━━━━━\u001b[0m\u001b[37m\u001b[0m \u001b[1m0s\u001b[0m 4ms/step - loss: 0.2645 - mae: 0.4473 - mse: 0.2645 \n",
            "Epoch 81/200\n",
            "\u001b[1m10/10\u001b[0m \u001b[32m━━━━━━━━━━━━━━━━━━━━\u001b[0m\u001b[37m\u001b[0m \u001b[1m0s\u001b[0m 3ms/step - loss: 0.2645 - mae: 0.4473 - mse: 0.2645 \n",
            "Epoch 82/200\n",
            "\u001b[1m10/10\u001b[0m \u001b[32m━━━━━━━━━━━━━━━━━━━━\u001b[0m\u001b[37m\u001b[0m \u001b[1m0s\u001b[0m 3ms/step - loss: 0.2645 - mae: 0.4473 - mse: 0.2645 \n",
            "Epoch 83/200\n",
            "\u001b[1m10/10\u001b[0m \u001b[32m━━━━━━━━━━━━━━━━━━━━\u001b[0m\u001b[37m\u001b[0m \u001b[1m0s\u001b[0m 3ms/step - loss: 0.2645 - mae: 0.4473 - mse: 0.2645 \n",
            "Epoch 84/200\n",
            "\u001b[1m10/10\u001b[0m \u001b[32m━━━━━━━━━━━━━━━━━━━━\u001b[0m\u001b[37m\u001b[0m \u001b[1m0s\u001b[0m 4ms/step - loss: 0.2645 - mae: 0.4473 - mse: 0.2645 \n",
            "Epoch 85/200\n",
            "\u001b[1m10/10\u001b[0m \u001b[32m━━━━━━━━━━━━━━━━━━━━\u001b[0m\u001b[37m\u001b[0m \u001b[1m0s\u001b[0m 3ms/step - loss: 0.2645 - mae: 0.4473 - mse: 0.2645 \n",
            "Epoch 86/200\n",
            "\u001b[1m10/10\u001b[0m \u001b[32m━━━━━━━━━━━━━━━━━━━━\u001b[0m\u001b[37m\u001b[0m \u001b[1m0s\u001b[0m 4ms/step - loss: 0.2645 - mae: 0.4473 - mse: 0.2645 \n",
            "Epoch 87/200\n",
            "\u001b[1m10/10\u001b[0m \u001b[32m━━━━━━━━━━━━━━━━━━━━\u001b[0m\u001b[37m\u001b[0m \u001b[1m0s\u001b[0m 4ms/step - loss: 0.2645 - mae: 0.4473 - mse: 0.2645 \n",
            "Epoch 88/200\n",
            "\u001b[1m10/10\u001b[0m \u001b[32m━━━━━━━━━━━━━━━━━━━━\u001b[0m\u001b[37m\u001b[0m \u001b[1m0s\u001b[0m 3ms/step - loss: 0.2645 - mae: 0.4473 - mse: 0.2645 \n",
            "Epoch 89/200\n",
            "\u001b[1m10/10\u001b[0m \u001b[32m━━━━━━━━━━━━━━━━━━━━\u001b[0m\u001b[37m\u001b[0m \u001b[1m0s\u001b[0m 4ms/step - loss: 0.2645 - mae: 0.4473 - mse: 0.2645 \n",
            "Epoch 90/200\n",
            "\u001b[1m10/10\u001b[0m \u001b[32m━━━━━━━━━━━━━━━━━━━━\u001b[0m\u001b[37m\u001b[0m \u001b[1m0s\u001b[0m 4ms/step - loss: 0.2645 - mae: 0.4473 - mse: 0.2645 \n",
            "Epoch 91/200\n",
            "\u001b[1m10/10\u001b[0m \u001b[32m━━━━━━━━━━━━━━━━━━━━\u001b[0m\u001b[37m\u001b[0m \u001b[1m0s\u001b[0m 3ms/step - loss: 0.2645 - mae: 0.4473 - mse: 0.2645 \n",
            "Epoch 92/200\n",
            "\u001b[1m10/10\u001b[0m \u001b[32m━━━━━━━━━━━━━━━━━━━━\u001b[0m\u001b[37m\u001b[0m \u001b[1m0s\u001b[0m 3ms/step - loss: 0.2645 - mae: 0.4473 - mse: 0.2645 \n",
            "Epoch 93/200\n",
            "\u001b[1m10/10\u001b[0m \u001b[32m━━━━━━━━━━━━━━━━━━━━\u001b[0m\u001b[37m\u001b[0m \u001b[1m0s\u001b[0m 4ms/step - loss: 0.2645 - mae: 0.4473 - mse: 0.2645 \n",
            "Epoch 94/200\n",
            "\u001b[1m10/10\u001b[0m \u001b[32m━━━━━━━━━━━━━━━━━━━━\u001b[0m\u001b[37m\u001b[0m \u001b[1m0s\u001b[0m 4ms/step - loss: 0.2645 - mae: 0.4473 - mse: 0.2645 \n",
            "Epoch 95/200\n",
            "\u001b[1m10/10\u001b[0m \u001b[32m━━━━━━━━━━━━━━━━━━━━\u001b[0m\u001b[37m\u001b[0m \u001b[1m0s\u001b[0m 3ms/step - loss: 0.2645 - mae: 0.4473 - mse: 0.2645 \n",
            "Epoch 96/200\n",
            "\u001b[1m10/10\u001b[0m \u001b[32m━━━━━━━━━━━━━━━━━━━━\u001b[0m\u001b[37m\u001b[0m \u001b[1m0s\u001b[0m 3ms/step - loss: 0.2645 - mae: 0.4473 - mse: 0.2645 \n",
            "Epoch 97/200\n",
            "\u001b[1m10/10\u001b[0m \u001b[32m━━━━━━━━━━━━━━━━━━━━\u001b[0m\u001b[37m\u001b[0m \u001b[1m0s\u001b[0m 3ms/step - loss: 0.2645 - mae: 0.4473 - mse: 0.2645 \n",
            "Epoch 98/200\n",
            "\u001b[1m10/10\u001b[0m \u001b[32m━━━━━━━━━━━━━━━━━━━━\u001b[0m\u001b[37m\u001b[0m \u001b[1m0s\u001b[0m 3ms/step - loss: 0.2645 - mae: 0.4473 - mse: 0.2645 \n",
            "Epoch 99/200\n",
            "\u001b[1m10/10\u001b[0m \u001b[32m━━━━━━━━━━━━━━━━━━━━\u001b[0m\u001b[37m\u001b[0m \u001b[1m0s\u001b[0m 3ms/step - loss: 0.2645 - mae: 0.4473 - mse: 0.2645 \n",
            "Epoch 100/200\n",
            "\u001b[1m10/10\u001b[0m \u001b[32m━━━━━━━━━━━━━━━━━━━━\u001b[0m\u001b[37m\u001b[0m \u001b[1m0s\u001b[0m 3ms/step - loss: 0.2645 - mae: 0.4473 - mse: 0.2645 \n",
            "Epoch 101/200\n",
            "\u001b[1m10/10\u001b[0m \u001b[32m━━━━━━━━━━━━━━━━━━━━\u001b[0m\u001b[37m\u001b[0m \u001b[1m0s\u001b[0m 3ms/step - loss: 0.2645 - mae: 0.4473 - mse: 0.2645 \n",
            "Epoch 102/200\n",
            "\u001b[1m10/10\u001b[0m \u001b[32m━━━━━━━━━━━━━━━━━━━━\u001b[0m\u001b[37m\u001b[0m \u001b[1m0s\u001b[0m 3ms/step - loss: 0.2645 - mae: 0.4473 - mse: 0.2645 \n",
            "Epoch 103/200\n",
            "\u001b[1m10/10\u001b[0m \u001b[32m━━━━━━━━━━━━━━━━━━━━\u001b[0m\u001b[37m\u001b[0m \u001b[1m0s\u001b[0m 3ms/step - loss: 0.2645 - mae: 0.4473 - mse: 0.2645 \n",
            "Epoch 104/200\n",
            "\u001b[1m10/10\u001b[0m \u001b[32m━━━━━━━━━━━━━━━━━━━━\u001b[0m\u001b[37m\u001b[0m \u001b[1m0s\u001b[0m 3ms/step - loss: 0.2645 - mae: 0.4473 - mse: 0.2645 \n",
            "Epoch 105/200\n",
            "\u001b[1m10/10\u001b[0m \u001b[32m━━━━━━━━━━━━━━━━━━━━\u001b[0m\u001b[37m\u001b[0m \u001b[1m0s\u001b[0m 4ms/step - loss: 0.2645 - mae: 0.4473 - mse: 0.2645 \n",
            "Epoch 106/200\n",
            "\u001b[1m10/10\u001b[0m \u001b[32m━━━━━━━━━━━━━━━━━━━━\u001b[0m\u001b[37m\u001b[0m \u001b[1m0s\u001b[0m 3ms/step - loss: 0.2645 - mae: 0.4473 - mse: 0.2645 \n",
            "Epoch 107/200\n",
            "\u001b[1m10/10\u001b[0m \u001b[32m━━━━━━━━━━━━━━━━━━━━\u001b[0m\u001b[37m\u001b[0m \u001b[1m0s\u001b[0m 4ms/step - loss: 0.2645 - mae: 0.4473 - mse: 0.2645 \n",
            "Epoch 108/200\n",
            "\u001b[1m10/10\u001b[0m \u001b[32m━━━━━━━━━━━━━━━━━━━━\u001b[0m\u001b[37m\u001b[0m \u001b[1m0s\u001b[0m 4ms/step - loss: 0.2645 - mae: 0.4473 - mse: 0.2645 \n",
            "Epoch 109/200\n",
            "\u001b[1m10/10\u001b[0m \u001b[32m━━━━━━━━━━━━━━━━━━━━\u001b[0m\u001b[37m\u001b[0m \u001b[1m0s\u001b[0m 3ms/step - loss: 0.2645 - mae: 0.4473 - mse: 0.2645 \n",
            "Epoch 110/200\n",
            "\u001b[1m10/10\u001b[0m \u001b[32m━━━━━━━━━━━━━━━━━━━━\u001b[0m\u001b[37m\u001b[0m \u001b[1m0s\u001b[0m 3ms/step - loss: 0.2645 - mae: 0.4473 - mse: 0.2645 \n",
            "Epoch 111/200\n",
            "\u001b[1m10/10\u001b[0m \u001b[32m━━━━━━━━━━━━━━━━━━━━\u001b[0m\u001b[37m\u001b[0m \u001b[1m0s\u001b[0m 4ms/step - loss: 0.2645 - mae: 0.4473 - mse: 0.2645 \n",
            "Epoch 112/200\n",
            "\u001b[1m10/10\u001b[0m \u001b[32m━━━━━━━━━━━━━━━━━━━━\u001b[0m\u001b[37m\u001b[0m \u001b[1m0s\u001b[0m 4ms/step - loss: 0.2645 - mae: 0.4473 - mse: 0.2645 \n",
            "Epoch 113/200\n",
            "\u001b[1m10/10\u001b[0m \u001b[32m━━━━━━━━━━━━━━━━━━━━\u001b[0m\u001b[37m\u001b[0m \u001b[1m0s\u001b[0m 4ms/step - loss: 0.2645 - mae: 0.4473 - mse: 0.2645 \n",
            "Epoch 114/200\n",
            "\u001b[1m10/10\u001b[0m \u001b[32m━━━━━━━━━━━━━━━━━━━━\u001b[0m\u001b[37m\u001b[0m \u001b[1m0s\u001b[0m 4ms/step - loss: 0.2645 - mae: 0.4473 - mse: 0.2645 \n",
            "Epoch 115/200\n",
            "\u001b[1m10/10\u001b[0m \u001b[32m━━━━━━━━━━━━━━━━━━━━\u001b[0m\u001b[37m\u001b[0m \u001b[1m0s\u001b[0m 4ms/step - loss: 0.2645 - mae: 0.4473 - mse: 0.2645 \n",
            "Epoch 116/200\n",
            "\u001b[1m10/10\u001b[0m \u001b[32m━━━━━━━━━━━━━━━━━━━━\u001b[0m\u001b[37m\u001b[0m \u001b[1m0s\u001b[0m 3ms/step - loss: 0.2645 - mae: 0.4473 - mse: 0.2645 \n",
            "Epoch 117/200\n",
            "\u001b[1m10/10\u001b[0m \u001b[32m━━━━━━━━━━━━━━━━━━━━\u001b[0m\u001b[37m\u001b[0m \u001b[1m0s\u001b[0m 4ms/step - loss: 0.2645 - mae: 0.4473 - mse: 0.2645 \n",
            "Epoch 118/200\n",
            "\u001b[1m10/10\u001b[0m \u001b[32m━━━━━━━━━━━━━━━━━━━━\u001b[0m\u001b[37m\u001b[0m \u001b[1m0s\u001b[0m 4ms/step - loss: 0.2645 - mae: 0.4473 - mse: 0.2645 \n",
            "Epoch 119/200\n",
            "\u001b[1m10/10\u001b[0m \u001b[32m━━━━━━━━━━━━━━━━━━━━\u001b[0m\u001b[37m\u001b[0m \u001b[1m0s\u001b[0m 3ms/step - loss: 0.2645 - mae: 0.4473 - mse: 0.2645 \n",
            "Epoch 120/200\n",
            "\u001b[1m10/10\u001b[0m \u001b[32m━━━━━━━━━━━━━━━━━━━━\u001b[0m\u001b[37m\u001b[0m \u001b[1m0s\u001b[0m 3ms/step - loss: 0.2645 - mae: 0.4473 - mse: 0.2645 \n",
            "Epoch 121/200\n",
            "\u001b[1m10/10\u001b[0m \u001b[32m━━━━━━━━━━━━━━━━━━━━\u001b[0m\u001b[37m\u001b[0m \u001b[1m0s\u001b[0m 3ms/step - loss: 0.2645 - mae: 0.4473 - mse: 0.2645 \n",
            "Epoch 122/200\n",
            "\u001b[1m10/10\u001b[0m \u001b[32m━━━━━━━━━━━━━━━━━━━━\u001b[0m\u001b[37m\u001b[0m \u001b[1m0s\u001b[0m 3ms/step - loss: 0.2645 - mae: 0.4473 - mse: 0.2645 \n",
            "Epoch 123/200\n",
            "\u001b[1m10/10\u001b[0m \u001b[32m━━━━━━━━━━━━━━━━━━━━\u001b[0m\u001b[37m\u001b[0m \u001b[1m0s\u001b[0m 3ms/step - loss: 0.2645 - mae: 0.4473 - mse: 0.2645 \n",
            "Epoch 124/200\n",
            "\u001b[1m10/10\u001b[0m \u001b[32m━━━━━━━━━━━━━━━━━━━━\u001b[0m\u001b[37m\u001b[0m \u001b[1m0s\u001b[0m 3ms/step - loss: 0.2645 - mae: 0.4473 - mse: 0.2645 \n",
            "Epoch 125/200\n",
            "\u001b[1m10/10\u001b[0m \u001b[32m━━━━━━━━━━━━━━━━━━━━\u001b[0m\u001b[37m\u001b[0m \u001b[1m0s\u001b[0m 3ms/step - loss: 0.2645 - mae: 0.4473 - mse: 0.2645 \n",
            "Epoch 126/200\n",
            "\u001b[1m10/10\u001b[0m \u001b[32m━━━━━━━━━━━━━━━━━━━━\u001b[0m\u001b[37m\u001b[0m \u001b[1m0s\u001b[0m 4ms/step - loss: 0.2645 - mae: 0.4473 - mse: 0.2645 \n",
            "Epoch 127/200\n",
            "\u001b[1m10/10\u001b[0m \u001b[32m━━━━━━━━━━━━━━━━━━━━\u001b[0m\u001b[37m\u001b[0m \u001b[1m0s\u001b[0m 4ms/step - loss: 0.2645 - mae: 0.4473 - mse: 0.2645 \n",
            "Epoch 128/200\n",
            "\u001b[1m10/10\u001b[0m \u001b[32m━━━━━━━━━━━━━━━━━━━━\u001b[0m\u001b[37m\u001b[0m \u001b[1m0s\u001b[0m 3ms/step - loss: 0.2645 - mae: 0.4473 - mse: 0.2645 \n",
            "Epoch 129/200\n",
            "\u001b[1m10/10\u001b[0m \u001b[32m━━━━━━━━━━━━━━━━━━━━\u001b[0m\u001b[37m\u001b[0m \u001b[1m0s\u001b[0m 4ms/step - loss: 0.2645 - mae: 0.4473 - mse: 0.2645 \n",
            "Epoch 130/200\n",
            "\u001b[1m10/10\u001b[0m \u001b[32m━━━━━━━━━━━━━━━━━━━━\u001b[0m\u001b[37m\u001b[0m \u001b[1m0s\u001b[0m 3ms/step - loss: 0.2645 - mae: 0.4473 - mse: 0.2645 \n",
            "Epoch 131/200\n",
            "\u001b[1m10/10\u001b[0m \u001b[32m━━━━━━━━━━━━━━━━━━━━\u001b[0m\u001b[37m\u001b[0m \u001b[1m0s\u001b[0m 3ms/step - loss: 0.2645 - mae: 0.4473 - mse: 0.2645 \n",
            "Epoch 132/200\n",
            "\u001b[1m10/10\u001b[0m \u001b[32m━━━━━━━━━━━━━━━━━━━━\u001b[0m\u001b[37m\u001b[0m \u001b[1m0s\u001b[0m 3ms/step - loss: 0.2645 - mae: 0.4473 - mse: 0.2645 \n",
            "Epoch 133/200\n",
            "\u001b[1m10/10\u001b[0m \u001b[32m━━━━━━━━━━━━━━━━━━━━\u001b[0m\u001b[37m\u001b[0m \u001b[1m0s\u001b[0m 4ms/step - loss: 0.2645 - mae: 0.4473 - mse: 0.2645 \n",
            "Epoch 134/200\n",
            "\u001b[1m10/10\u001b[0m \u001b[32m━━━━━━━━━━━━━━━━━━━━\u001b[0m\u001b[37m\u001b[0m \u001b[1m0s\u001b[0m 4ms/step - loss: 0.2645 - mae: 0.4473 - mse: 0.2645 \n",
            "Epoch 135/200\n",
            "\u001b[1m10/10\u001b[0m \u001b[32m━━━━━━━━━━━━━━━━━━━━\u001b[0m\u001b[37m\u001b[0m \u001b[1m0s\u001b[0m 4ms/step - loss: 0.2645 - mae: 0.4473 - mse: 0.2645 \n",
            "Epoch 136/200\n",
            "\u001b[1m10/10\u001b[0m \u001b[32m━━━━━━━━━━━━━━━━━━━━\u001b[0m\u001b[37m\u001b[0m \u001b[1m0s\u001b[0m 3ms/step - loss: 0.2645 - mae: 0.4473 - mse: 0.2645 \n",
            "Epoch 137/200\n",
            "\u001b[1m10/10\u001b[0m \u001b[32m━━━━━━━━━━━━━━━━━━━━\u001b[0m\u001b[37m\u001b[0m \u001b[1m0s\u001b[0m 4ms/step - loss: 0.2645 - mae: 0.4473 - mse: 0.2645 \n",
            "Epoch 138/200\n",
            "\u001b[1m10/10\u001b[0m \u001b[32m━━━━━━━━━━━━━━━━━━━━\u001b[0m\u001b[37m\u001b[0m \u001b[1m0s\u001b[0m 3ms/step - loss: 0.2645 - mae: 0.4473 - mse: 0.2645 \n",
            "Epoch 139/200\n",
            "\u001b[1m10/10\u001b[0m \u001b[32m━━━━━━━━━━━━━━━━━━━━\u001b[0m\u001b[37m\u001b[0m \u001b[1m0s\u001b[0m 4ms/step - loss: 0.2645 - mae: 0.4473 - mse: 0.2645 \n",
            "Epoch 140/200\n",
            "\u001b[1m10/10\u001b[0m \u001b[32m━━━━━━━━━━━━━━━━━━━━\u001b[0m\u001b[37m\u001b[0m \u001b[1m0s\u001b[0m 3ms/step - loss: 0.2645 - mae: 0.4473 - mse: 0.2645 \n",
            "Epoch 141/200\n",
            "\u001b[1m10/10\u001b[0m \u001b[32m━━━━━━━━━━━━━━━━━━━━\u001b[0m\u001b[37m\u001b[0m \u001b[1m0s\u001b[0m 7ms/step - loss: 0.2645 - mae: 0.4473 - mse: 0.2645 \n",
            "Epoch 142/200\n",
            "\u001b[1m10/10\u001b[0m \u001b[32m━━━━━━━━━━━━━━━━━━━━\u001b[0m\u001b[37m\u001b[0m \u001b[1m0s\u001b[0m 3ms/step - loss: 0.2645 - mae: 0.4473 - mse: 0.2645 \n",
            "Epoch 143/200\n",
            "\u001b[1m10/10\u001b[0m \u001b[32m━━━━━━━━━━━━━━━━━━━━\u001b[0m\u001b[37m\u001b[0m \u001b[1m0s\u001b[0m 4ms/step - loss: 0.2645 - mae: 0.4473 - mse: 0.2645 \n",
            "Epoch 144/200\n",
            "\u001b[1m10/10\u001b[0m \u001b[32m━━━━━━━━━━━━━━━━━━━━\u001b[0m\u001b[37m\u001b[0m \u001b[1m0s\u001b[0m 3ms/step - loss: 0.2645 - mae: 0.4473 - mse: 0.2645 \n",
            "Epoch 145/200\n",
            "\u001b[1m10/10\u001b[0m \u001b[32m━━━━━━━━━━━━━━━━━━━━\u001b[0m\u001b[37m\u001b[0m \u001b[1m0s\u001b[0m 3ms/step - loss: 0.2645 - mae: 0.4473 - mse: 0.2645 \n",
            "Epoch 146/200\n",
            "\u001b[1m10/10\u001b[0m \u001b[32m━━━━━━━━━━━━━━━━━━━━\u001b[0m\u001b[37m\u001b[0m \u001b[1m0s\u001b[0m 3ms/step - loss: 0.2645 - mae: 0.4473 - mse: 0.2645 \n",
            "Epoch 147/200\n",
            "\u001b[1m10/10\u001b[0m \u001b[32m━━━━━━━━━━━━━━━━━━━━\u001b[0m\u001b[37m\u001b[0m \u001b[1m0s\u001b[0m 4ms/step - loss: 0.2645 - mae: 0.4473 - mse: 0.2645 \n",
            "Epoch 148/200\n",
            "\u001b[1m10/10\u001b[0m \u001b[32m━━━━━━━━━━━━━━━━━━━━\u001b[0m\u001b[37m\u001b[0m \u001b[1m0s\u001b[0m 3ms/step - loss: 0.2645 - mae: 0.4473 - mse: 0.2645 \n",
            "Epoch 149/200\n",
            "\u001b[1m10/10\u001b[0m \u001b[32m━━━━━━━━━━━━━━━━━━━━\u001b[0m\u001b[37m\u001b[0m \u001b[1m0s\u001b[0m 4ms/step - loss: 0.2645 - mae: 0.4473 - mse: 0.2645 \n",
            "Epoch 150/200\n",
            "\u001b[1m10/10\u001b[0m \u001b[32m━━━━━━━━━━━━━━━━━━━━\u001b[0m\u001b[37m\u001b[0m \u001b[1m0s\u001b[0m 4ms/step - loss: 0.2645 - mae: 0.4473 - mse: 0.2645 \n",
            "Epoch 151/200\n",
            "\u001b[1m10/10\u001b[0m \u001b[32m━━━━━━━━━━━━━━━━━━━━\u001b[0m\u001b[37m\u001b[0m \u001b[1m0s\u001b[0m 4ms/step - loss: 0.2645 - mae: 0.4473 - mse: 0.2645 \n",
            "Epoch 152/200\n",
            "\u001b[1m10/10\u001b[0m \u001b[32m━━━━━━━━━━━━━━━━━━━━\u001b[0m\u001b[37m\u001b[0m \u001b[1m0s\u001b[0m 3ms/step - loss: 0.2645 - mae: 0.4473 - mse: 0.2645 \n",
            "Epoch 153/200\n",
            "\u001b[1m10/10\u001b[0m \u001b[32m━━━━━━━━━━━━━━━━━━━━\u001b[0m\u001b[37m\u001b[0m \u001b[1m0s\u001b[0m 3ms/step - loss: 0.2645 - mae: 0.4473 - mse: 0.2645 \n",
            "Epoch 154/200\n",
            "\u001b[1m10/10\u001b[0m \u001b[32m━━━━━━━━━━━━━━━━━━━━\u001b[0m\u001b[37m\u001b[0m \u001b[1m0s\u001b[0m 3ms/step - loss: 0.2645 - mae: 0.4473 - mse: 0.2645 \n",
            "Epoch 155/200\n",
            "\u001b[1m10/10\u001b[0m \u001b[32m━━━━━━━━━━━━━━━━━━━━\u001b[0m\u001b[37m\u001b[0m \u001b[1m0s\u001b[0m 3ms/step - loss: 0.2645 - mae: 0.4473 - mse: 0.2645 \n",
            "Epoch 156/200\n",
            "\u001b[1m10/10\u001b[0m \u001b[32m━━━━━━━━━━━━━━━━━━━━\u001b[0m\u001b[37m\u001b[0m \u001b[1m0s\u001b[0m 4ms/step - loss: 0.2645 - mae: 0.4473 - mse: 0.2645 \n",
            "Epoch 157/200\n",
            "\u001b[1m10/10\u001b[0m \u001b[32m━━━━━━━━━━━━━━━━━━━━\u001b[0m\u001b[37m\u001b[0m \u001b[1m0s\u001b[0m 4ms/step - loss: 0.2645 - mae: 0.4473 - mse: 0.2645 \n",
            "Epoch 158/200\n",
            "\u001b[1m10/10\u001b[0m \u001b[32m━━━━━━━━━━━━━━━━━━━━\u001b[0m\u001b[37m\u001b[0m \u001b[1m0s\u001b[0m 3ms/step - loss: 0.2645 - mae: 0.4473 - mse: 0.2645 \n",
            "Epoch 159/200\n",
            "\u001b[1m10/10\u001b[0m \u001b[32m━━━━━━━━━━━━━━━━━━━━\u001b[0m\u001b[37m\u001b[0m \u001b[1m0s\u001b[0m 3ms/step - loss: 0.2645 - mae: 0.4473 - mse: 0.2645 \n",
            "Epoch 160/200\n",
            "\u001b[1m10/10\u001b[0m \u001b[32m━━━━━━━━━━━━━━━━━━━━\u001b[0m\u001b[37m\u001b[0m \u001b[1m0s\u001b[0m 3ms/step - loss: 0.2645 - mae: 0.4473 - mse: 0.2645 \n",
            "Epoch 161/200\n",
            "\u001b[1m10/10\u001b[0m \u001b[32m━━━━━━━━━━━━━━━━━━━━\u001b[0m\u001b[37m\u001b[0m \u001b[1m0s\u001b[0m 3ms/step - loss: 0.2645 - mae: 0.4473 - mse: 0.2645 \n",
            "Epoch 162/200\n",
            "\u001b[1m10/10\u001b[0m \u001b[32m━━━━━━━━━━━━━━━━━━━━\u001b[0m\u001b[37m\u001b[0m \u001b[1m0s\u001b[0m 3ms/step - loss: 0.2645 - mae: 0.4473 - mse: 0.2645 \n",
            "Epoch 163/200\n",
            "\u001b[1m10/10\u001b[0m \u001b[32m━━━━━━━━━━━━━━━━━━━━\u001b[0m\u001b[37m\u001b[0m \u001b[1m0s\u001b[0m 3ms/step - loss: 0.2645 - mae: 0.4473 - mse: 0.2645 \n",
            "Epoch 164/200\n",
            "\u001b[1m10/10\u001b[0m \u001b[32m━━━━━━━━━━━━━━━━━━━━\u001b[0m\u001b[37m\u001b[0m \u001b[1m0s\u001b[0m 3ms/step - loss: 0.2645 - mae: 0.4473 - mse: 0.2645 \n",
            "Epoch 165/200\n",
            "\u001b[1m10/10\u001b[0m \u001b[32m━━━━━━━━━━━━━━━━━━━━\u001b[0m\u001b[37m\u001b[0m \u001b[1m0s\u001b[0m 4ms/step - loss: 0.2645 - mae: 0.4473 - mse: 0.2645 \n",
            "Epoch 166/200\n",
            "\u001b[1m10/10\u001b[0m \u001b[32m━━━━━━━━━━━━━━━━━━━━\u001b[0m\u001b[37m\u001b[0m \u001b[1m0s\u001b[0m 3ms/step - loss: 0.2645 - mae: 0.4473 - mse: 0.2645 \n",
            "Epoch 167/200\n",
            "\u001b[1m10/10\u001b[0m \u001b[32m━━━━━━━━━━━━━━━━━━━━\u001b[0m\u001b[37m\u001b[0m \u001b[1m0s\u001b[0m 4ms/step - loss: 0.2645 - mae: 0.4473 - mse: 0.2645 \n",
            "Epoch 168/200\n",
            "\u001b[1m10/10\u001b[0m \u001b[32m━━━━━━━━━━━━━━━━━━━━\u001b[0m\u001b[37m\u001b[0m \u001b[1m0s\u001b[0m 4ms/step - loss: 0.2645 - mae: 0.4473 - mse: 0.2645 \n",
            "Epoch 169/200\n",
            "\u001b[1m10/10\u001b[0m \u001b[32m━━━━━━━━━━━━━━━━━━━━\u001b[0m\u001b[37m\u001b[0m \u001b[1m0s\u001b[0m 8ms/step - loss: 0.2645 - mae: 0.4473 - mse: 0.2645 \n",
            "Epoch 170/200\n",
            "\u001b[1m10/10\u001b[0m \u001b[32m━━━━━━━━━━━━━━━━━━━━\u001b[0m\u001b[37m\u001b[0m \u001b[1m0s\u001b[0m 4ms/step - loss: 0.2645 - mae: 0.4473 - mse: 0.2645 \n",
            "Epoch 171/200\n",
            "\u001b[1m10/10\u001b[0m \u001b[32m━━━━━━━━━━━━━━━━━━━━\u001b[0m\u001b[37m\u001b[0m \u001b[1m0s\u001b[0m 4ms/step - loss: 0.2645 - mae: 0.4473 - mse: 0.2645 \n",
            "Epoch 172/200\n",
            "\u001b[1m10/10\u001b[0m \u001b[32m━━━━━━━━━━━━━━━━━━━━\u001b[0m\u001b[37m\u001b[0m \u001b[1m0s\u001b[0m 5ms/step - loss: 0.2645 - mae: 0.4473 - mse: 0.2645 \n",
            "Epoch 173/200\n",
            "\u001b[1m10/10\u001b[0m \u001b[32m━━━━━━━━━━━━━━━━━━━━\u001b[0m\u001b[37m\u001b[0m \u001b[1m0s\u001b[0m 3ms/step - loss: 0.2645 - mae: 0.4473 - mse: 0.2645 \n",
            "Epoch 174/200\n",
            "\u001b[1m10/10\u001b[0m \u001b[32m━━━━━━━━━━━━━━━━━━━━\u001b[0m\u001b[37m\u001b[0m \u001b[1m0s\u001b[0m 4ms/step - loss: 0.2645 - mae: 0.4473 - mse: 0.2645 \n",
            "Epoch 175/200\n",
            "\u001b[1m10/10\u001b[0m \u001b[32m━━━━━━━━━━━━━━━━━━━━\u001b[0m\u001b[37m\u001b[0m \u001b[1m0s\u001b[0m 4ms/step - loss: 0.2645 - mae: 0.4473 - mse: 0.2645 \n",
            "Epoch 176/200\n",
            "\u001b[1m10/10\u001b[0m \u001b[32m━━━━━━━━━━━━━━━━━━━━\u001b[0m\u001b[37m\u001b[0m \u001b[1m0s\u001b[0m 3ms/step - loss: 0.2645 - mae: 0.4473 - mse: 0.2645 \n",
            "Epoch 177/200\n",
            "\u001b[1m10/10\u001b[0m \u001b[32m━━━━━━━━━━━━━━━━━━━━\u001b[0m\u001b[37m\u001b[0m \u001b[1m0s\u001b[0m 3ms/step - loss: 0.2645 - mae: 0.4473 - mse: 0.2645 \n",
            "Epoch 178/200\n",
            "\u001b[1m10/10\u001b[0m \u001b[32m━━━━━━━━━━━━━━━━━━━━\u001b[0m\u001b[37m\u001b[0m \u001b[1m0s\u001b[0m 3ms/step - loss: 0.2645 - mae: 0.4473 - mse: 0.2645 \n",
            "Epoch 179/200\n",
            "\u001b[1m10/10\u001b[0m \u001b[32m━━━━━━━━━━━━━━━━━━━━\u001b[0m\u001b[37m\u001b[0m \u001b[1m0s\u001b[0m 3ms/step - loss: 0.2645 - mae: 0.4473 - mse: 0.2645 \n",
            "Epoch 180/200\n",
            "\u001b[1m10/10\u001b[0m \u001b[32m━━━━━━━━━━━━━━━━━━━━\u001b[0m\u001b[37m\u001b[0m \u001b[1m0s\u001b[0m 3ms/step - loss: 0.2645 - mae: 0.4473 - mse: 0.2645 \n",
            "Epoch 181/200\n",
            "\u001b[1m10/10\u001b[0m \u001b[32m━━━━━━━━━━━━━━━━━━━━\u001b[0m\u001b[37m\u001b[0m \u001b[1m0s\u001b[0m 3ms/step - loss: 0.2645 - mae: 0.4473 - mse: 0.2645 \n",
            "Epoch 182/200\n",
            "\u001b[1m10/10\u001b[0m \u001b[32m━━━━━━━━━━━━━━━━━━━━\u001b[0m\u001b[37m\u001b[0m \u001b[1m0s\u001b[0m 5ms/step - loss: 0.2645 - mae: 0.4473 - mse: 0.2645 \n",
            "Epoch 183/200\n",
            "\u001b[1m10/10\u001b[0m \u001b[32m━━━━━━━━━━━━━━━━━━━━\u001b[0m\u001b[37m\u001b[0m \u001b[1m0s\u001b[0m 3ms/step - loss: 0.2645 - mae: 0.4473 - mse: 0.2645 \n",
            "Epoch 184/200\n",
            "\u001b[1m10/10\u001b[0m \u001b[32m━━━━━━━━━━━━━━━━━━━━\u001b[0m\u001b[37m\u001b[0m \u001b[1m0s\u001b[0m 3ms/step - loss: 0.2645 - mae: 0.4473 - mse: 0.2645 \n",
            "Epoch 185/200\n",
            "\u001b[1m10/10\u001b[0m \u001b[32m━━━━━━━━━━━━━━━━━━━━\u001b[0m\u001b[37m\u001b[0m \u001b[1m0s\u001b[0m 4ms/step - loss: 0.2645 - mae: 0.4473 - mse: 0.2645 \n",
            "Epoch 186/200\n",
            "\u001b[1m10/10\u001b[0m \u001b[32m━━━━━━━━━━━━━━━━━━━━\u001b[0m\u001b[37m\u001b[0m \u001b[1m0s\u001b[0m 3ms/step - loss: 0.2645 - mae: 0.4473 - mse: 0.2645 \n",
            "Epoch 187/200\n",
            "\u001b[1m10/10\u001b[0m \u001b[32m━━━━━━━━━━━━━━━━━━━━\u001b[0m\u001b[37m\u001b[0m \u001b[1m0s\u001b[0m 3ms/step - loss: 0.2645 - mae: 0.4473 - mse: 0.2645 \n",
            "Epoch 188/200\n",
            "\u001b[1m10/10\u001b[0m \u001b[32m━━━━━━━━━━━━━━━━━━━━\u001b[0m\u001b[37m\u001b[0m \u001b[1m0s\u001b[0m 3ms/step - loss: 0.2645 - mae: 0.4473 - mse: 0.2645 \n",
            "Epoch 189/200\n",
            "\u001b[1m10/10\u001b[0m \u001b[32m━━━━━━━━━━━━━━━━━━━━\u001b[0m\u001b[37m\u001b[0m \u001b[1m0s\u001b[0m 3ms/step - loss: 0.2645 - mae: 0.4473 - mse: 0.2645 \n",
            "Epoch 190/200\n",
            "\u001b[1m10/10\u001b[0m \u001b[32m━━━━━━━━━━━━━━━━━━━━\u001b[0m\u001b[37m\u001b[0m \u001b[1m0s\u001b[0m 4ms/step - loss: 0.2645 - mae: 0.4473 - mse: 0.2645 \n",
            "Epoch 191/200\n",
            "\u001b[1m10/10\u001b[0m \u001b[32m━━━━━━━━━━━━━━━━━━━━\u001b[0m\u001b[37m\u001b[0m \u001b[1m0s\u001b[0m 3ms/step - loss: 0.2645 - mae: 0.4473 - mse: 0.2645 \n",
            "Epoch 192/200\n",
            "\u001b[1m10/10\u001b[0m \u001b[32m━━━━━━━━━━━━━━━━━━━━\u001b[0m\u001b[37m\u001b[0m \u001b[1m0s\u001b[0m 3ms/step - loss: 0.2645 - mae: 0.4473 - mse: 0.2645 \n",
            "Epoch 193/200\n",
            "\u001b[1m10/10\u001b[0m \u001b[32m━━━━━━━━━━━━━━━━━━━━\u001b[0m\u001b[37m\u001b[0m \u001b[1m0s\u001b[0m 3ms/step - loss: 0.2645 - mae: 0.4473 - mse: 0.2645 \n",
            "Epoch 194/200\n",
            "\u001b[1m10/10\u001b[0m \u001b[32m━━━━━━━━━━━━━━━━━━━━\u001b[0m\u001b[37m\u001b[0m \u001b[1m0s\u001b[0m 3ms/step - loss: 0.2645 - mae: 0.4473 - mse: 0.2645 \n",
            "Epoch 195/200\n",
            "\u001b[1m10/10\u001b[0m \u001b[32m━━━━━━━━━━━━━━━━━━━━\u001b[0m\u001b[37m\u001b[0m \u001b[1m0s\u001b[0m 4ms/step - loss: 0.2645 - mae: 0.4473 - mse: 0.2645 \n",
            "Epoch 196/200\n",
            "\u001b[1m10/10\u001b[0m \u001b[32m━━━━━━━━━━━━━━━━━━━━\u001b[0m\u001b[37m\u001b[0m \u001b[1m0s\u001b[0m 3ms/step - loss: 0.2645 - mae: 0.4473 - mse: 0.2645 \n",
            "Epoch 197/200\n",
            "\u001b[1m10/10\u001b[0m \u001b[32m━━━━━━━━━━━━━━━━━━━━\u001b[0m\u001b[37m\u001b[0m \u001b[1m0s\u001b[0m 3ms/step - loss: 0.2645 - mae: 0.4473 - mse: 0.2645 \n",
            "Epoch 198/200\n",
            "\u001b[1m10/10\u001b[0m \u001b[32m━━━━━━━━━━━━━━━━━━━━\u001b[0m\u001b[37m\u001b[0m \u001b[1m0s\u001b[0m 3ms/step - loss: 0.2645 - mae: 0.4473 - mse: 0.2645 \n",
            "Epoch 199/200\n",
            "\u001b[1m10/10\u001b[0m \u001b[32m━━━━━━━━━━━━━━━━━━━━\u001b[0m\u001b[37m\u001b[0m \u001b[1m0s\u001b[0m 3ms/step - loss: 0.2645 - mae: 0.4473 - mse: 0.2645 \n",
            "Epoch 200/200\n",
            "\u001b[1m10/10\u001b[0m \u001b[32m━━━━━━━━━━━━━━━━━━━━\u001b[0m\u001b[37m\u001b[0m \u001b[1m0s\u001b[0m 4ms/step - loss: 0.2645 - mae: 0.4473 - mse: 0.2645 \n"
          ]
        },
        {
          "data": {
            "text/plain": [
              "<keras.src.callbacks.history.History at 0x2a26b9efad0>"
            ]
          },
          "execution_count": 14,
          "metadata": {},
          "output_type": "execute_result"
        }
      ],
      "source": [
        "# 모델 훈련 시키기.\n",
        "\n",
        "model.fit(X_train_norm, y_train,\n",
        "          epochs=num_epochs, batch_size=batch_size,\n",
        "          verbose=1)"
      ]
    },
    {
      "cell_type": "code",
      "execution_count": null,
      "id": "6fcd1a63-e7a7-437a-ae96-f1dadf0ea162",
      "metadata": {
        "id": "6fcd1a63-e7a7-437a-ae96-f1dadf0ea162",
        "outputId": "230e5214-35c7-4202-cae5-08cecee56f08"
      },
      "outputs": [
        {
          "name": "stdout",
          "output_type": "stream",
          "text": [
            "[2.7240849] [4.9556704]\n"
          ]
        },
        {
          "data": {
            "image/png": "[encoded data removed]",
            "text/plain": [
              "<Figure size 1300x500 with 2 Axes>"
            ]
          },
          "metadata": {},
          "output_type": "display_data"
        }
      ],
      "source": [
        "# 훈련시킨 결과 그래프로 출력하기\n",
        "\n",
        "print(model.w.numpy(), model.b.numpy())\n",
        "\n",
        "\n",
        "X_test = np.linspace(0, 9, num=100).reshape(-1, 1)\n",
        "X_test_norm = (X_test - np.mean(X_train)) / np.std(X_train)\n",
        "\n",
        "y_pred = model(tf.cast(X_test_norm, dtype=tf.float32))\n",
        "\n",
        "\n",
        "fig = plt.figure(figsize=(13, 5))\n",
        "ax = fig.add_subplot(1, 2, 1)\n",
        "plt.plot(X_train_norm, y_train, 'o', markersize=10)\n",
        "plt.plot(X_test_norm, y_pred, '--', lw=3)\n",
        "plt.legend(['Training Samples', 'Linear Regression'], fontsize=15)\n",
        "\n",
        "ax = fig.add_subplot(1, 2, 2)\n",
        "plt.plot(Ws, lw=3)\n",
        "plt.plot(bs, lw=3)\n",
        "plt.legend(['W', 'bias'], fontsize=15)\n",
        "plt.show()"
      ]
    },
    {
      "cell_type": "markdown",
      "id": "c86ee724-290f-4a2f-9ad7-8fa3feb342ee",
      "metadata": {
        "id": "c86ee724-290f-4a2f-9ad7-8fa3feb342ee"
      },
      "source": [
        "## 붓꽃 데이터셋을 분류하는 다층 퍼셉트론 만들기"
      ]
    },
    {
      "cell_type": "code",
      "execution_count": null,
      "id": "c7709612-9b25-4e72-863e-e34d6fb784bd",
      "metadata": {
        "id": "c7709612-9b25-4e72-863e-e34d6fb784bd",
        "outputId": "f3f4a91c-c770-424a-8331-1bd151c9505e"
      },
      "outputs": [
        {
          "name": "stdout",
          "output_type": "stream",
          "text": [
            "tfds.core.DatasetInfo(\n",
            "    name='iris',\n",
            "    full_name='iris/2.1.0',\n",
            "    description=\"\"\"\n",
            "    This is perhaps the best known database to be found in the pattern recognition\n",
            "    literature. Fisher's paper is a classic in the field and is referenced\n",
            "    frequently to this day. (See Duda & Hart, for example.) The data set contains\n",
            "    3 classes of 50 instances each, where each class refers to a type of iris\n",
            "    plant. One class is linearly separable from the other 2; the latter are NOT\n",
            "    linearly separable from each other.\n",
            "    \"\"\",\n",
            "    homepage='https://archive.ics.uci.edu/ml/datasets/iris',\n",
            "    data_dir='C:\\\\Users\\\\webjjang\\\\tensorflow_datasets\\\\iris\\\\2.1.0',\n",
            "    file_format=tfrecord,\n",
            "    download_size=3.65 KiB,\n",
            "    dataset_size=7.62 KiB,\n",
            "    features=FeaturesDict({\n",
            "        'features': Tensor(shape=(4,), dtype=float32),\n",
            "        'label': ClassLabel(shape=(), dtype=int64, num_classes=3),\n",
            "    }),\n",
            "    supervised_keys=('features', 'label'),\n",
            "    disable_shuffling=False,\n",
            "    nondeterministic_order=False,\n",
            "    splits={\n",
            "        'train': <SplitInfo num_examples=150, num_shards=1>,\n",
            "    },\n",
            "    citation=\"\"\"@misc{Dua:2019 ,\n",
            "    author = \"Dua, Dheeru and Graff, Casey\",\n",
            "    year = \"2017\",\n",
            "    title = \"{UCI} Machine Learning Repository\",\n",
            "    url = \"http://archive.ics.uci.edu/ml\",\n",
            "    institution = \"University of California, Irvine, School of Information and Computer Sciences\"\n",
            "    }\"\"\",\n",
            ")\n"
          ]
        }
      ],
      "source": [
        "# tensorflow_datasets 의 붓꽃 데이터 셋 로드하기\n",
        "# 데이터를 가져오는데 시간이 걸려서 경고가 나오는데 한번 더 실행하세요.~~~\n",
        "\n",
        "import tensorflow_datasets as tfds\n",
        "\n",
        "iris, iris_info = tfds.load('iris', with_info=True)\n",
        "\n",
        "print(iris_info)"
      ]
    },
    {
      "cell_type": "code",
      "execution_count": null,
      "id": "e440aa37-67f0-44fd-92b8-43215bb0262b",
      "metadata": {
        "id": "e440aa37-67f0-44fd-92b8-43215bb0262b",
        "outputId": "181bdd49-64b4-426d-e194-e30aa390c3d5"
      },
      "outputs": [
        {
          "name": "stdout",
          "output_type": "stream",
          "text": [
            "150\n",
            "{'features': <tf.Tensor: shape=(4,), dtype=float32, numpy=array([6.5, 3. , 5.2, 2. ], dtype=float32)>, 'label': <tf.Tensor: shape=(), dtype=int64, numpy=2>}\n"
          ]
        }
      ],
      "source": [
        "# 가져온 데이터를 train만 선별하여 꺼내오기\n",
        "\n",
        "# 섞어서 150개를 꺼내옴\n",
        "tf.random.set_seed(1)\n",
        "\n",
        "ds_orig = iris['train']\n",
        "print(len(ds_orig))\n",
        "ds_orig = ds_orig.shuffle(150, reshuffle_each_iteration=False)\n",
        "\n",
        "print(next(iter(ds_orig)))\n",
        "\n",
        "# 앞에서 100개는 훈련용 데이터로 50개는 테스트 데이터로 분리 저장함.\n",
        "ds_train_orig = ds_orig.take(100)\n",
        "ds_test = ds_orig.skip(100)"
      ]
    },
    {
      "cell_type": "code",
      "execution_count": null,
      "id": "cf84f342-a133-446d-bf04-e8a7387da334",
      "metadata": {
        "id": "cf84f342-a133-446d-bf04-e8a7387da334",
        "outputId": "dbac761b-7eb9-45d2-e8c7-db7af8ec4478"
      },
      "outputs": [
        {
          "name": "stdout",
          "output_type": "stream",
          "text": [
            "100\n",
            "50\n"
          ]
        }
      ],
      "source": [
        "## 샘플 개수 확인\n",
        "\n",
        "# n = 0\n",
        "# for example in ds_train_orig:\n",
        "#     n += 1\n",
        "# print(n)\n",
        "\n",
        "# n = 0\n",
        "# for example in ds_test:\n",
        "#     n += 1\n",
        "# print(n)\n",
        "\n",
        "print(len(ds_train_orig))\n",
        "print(len(ds_test))"
      ]
    },
    {
      "cell_type": "code",
      "execution_count": null,
      "id": "8dcb50aa-4453-4494-8cad-773c35735633",
      "metadata": {
        "id": "8dcb50aa-4453-4494-8cad-773c35735633",
        "outputId": "02f3c585-25cf-49a0-9339-cd2d277810dd"
      },
      "outputs": [
        {
          "data": {
            "text/plain": [
              "(<tf.Tensor: shape=(4,), dtype=float32, numpy=array([6.5, 3. , 5.2, 2. ], dtype=float32)>,\n",
              " <tf.Tensor: shape=(), dtype=int64, numpy=2>)"
            ]
          },
          "execution_count": 57,
          "metadata": {},
          "output_type": "execute_result"
        }
      ],
      "source": [
        "# 학습 데이터와 테스트 데이터의 구조 만들기\n",
        "\n",
        "ds_train_orig = ds_train_orig.map(\n",
        "    lambda x: (x['features'], x['label']))\n",
        "\n",
        "ds_test = ds_test.map(\n",
        "    lambda x: (x['features'], x['label']))\n",
        "\n",
        "next(iter(ds_train_orig))"
      ]
    },
    {
      "cell_type": "code",
      "execution_count": null,
      "id": "7a3f70a9-f9c8-4e78-9d72-1d2a19f9dce7",
      "metadata": {
        "id": "7a3f70a9-f9c8-4e78-9d72-1d2a19f9dce7",
        "outputId": "0642493d-e552-4fe3-d86a-56d78d7c7153"
      },
      "outputs": [
        {
          "data": {
            "text/html": [
              "<pre style=\"white-space:pre;overflow-x:auto;line-height:normal;font-family:Menlo,'DejaVu Sans Mono',consolas,'Courier New',monospace\"><span style=\"font-weight: bold\">Model: \"sequential_5\"</span>\n",
              "</pre>\n"
            ],
            "text/plain": [
              "\u001b[1mModel: \"sequential_5\"\u001b[0m\n"
            ]
          },
          "metadata": {},
          "output_type": "display_data"
        },
        {
          "data": {
            "text/html": [
              "<pre style=\"white-space:pre;overflow-x:auto;line-height:normal;font-family:Menlo,'DejaVu Sans Mono',consolas,'Courier New',monospace\">┏━━━━━━━━━━━━━━━━━━━━━━━━━━━━━━━━━━━━━━┳━━━━━━━━━━━━━━━━━━━━━━━━━━━━━┳━━━━━━━━━━━━━━━━━┓\n",
              "┃<span style=\"font-weight: bold\"> Layer (type)                         </span>┃<span style=\"font-weight: bold\"> Output Shape                </span>┃<span style=\"font-weight: bold\">         Param # </span>┃\n",
              "┡━━━━━━━━━━━━━━━━━━━━━━━━━━━━━━━━━━━━━━╇━━━━━━━━━━━━━━━━━━━━━━━━━━━━━╇━━━━━━━━━━━━━━━━━┩\n",
              "│ fc1 (<span style=\"color: #0087ff; text-decoration-color: #0087ff\">Dense</span>)                          │ (<span style=\"color: #00d7ff; text-decoration-color: #00d7ff\">None</span>, <span style=\"color: #00af00; text-decoration-color: #00af00\">16</span>)                  │              <span style=\"color: #00af00; text-decoration-color: #00af00\">80</span> │\n",
              "├──────────────────────────────────────┼─────────────────────────────┼─────────────────┤\n",
              "│ fc2 (<span style=\"color: #0087ff; text-decoration-color: #0087ff\">Dense</span>)                          │ (<span style=\"color: #00d7ff; text-decoration-color: #00d7ff\">None</span>, <span style=\"color: #00af00; text-decoration-color: #00af00\">3</span>)                   │              <span style=\"color: #00af00; text-decoration-color: #00af00\">51</span> │\n",
              "└──────────────────────────────────────┴─────────────────────────────┴─────────────────┘\n",
              "</pre>\n"
            ],
            "text/plain": [
              "┏━━━━━━━━━━━━━━━━━━━━━━━━━━━━━━━━━━━━━━┳━━━━━━━━━━━━━━━━━━━━━━━━━━━━━┳━━━━━━━━━━━━━━━━━┓\n",
              "┃\u001b[1m \u001b[0m\u001b[1mLayer (type)                        \u001b[0m\u001b[1m \u001b[0m┃\u001b[1m \u001b[0m\u001b[1mOutput Shape               \u001b[0m\u001b[1m \u001b[0m┃\u001b[1m \u001b[0m\u001b[1m        Param #\u001b[0m\u001b[1m \u001b[0m┃\n",
              "┡━━━━━━━━━━━━━━━━━━━━━━━━━━━━━━━━━━━━━━╇━━━━━━━━━━━━━━━━━━━━━━━━━━━━━╇━━━━━━━━━━━━━━━━━┩\n",
              "│ fc1 (\u001b[38;5;33mDense\u001b[0m)                          │ (\u001b[38;5;45mNone\u001b[0m, \u001b[38;5;34m16\u001b[0m)                  │              \u001b[38;5;34m80\u001b[0m │\n",
              "├──────────────────────────────────────┼─────────────────────────────┼─────────────────┤\n",
              "│ fc2 (\u001b[38;5;33mDense\u001b[0m)                          │ (\u001b[38;5;45mNone\u001b[0m, \u001b[38;5;34m3\u001b[0m)                   │              \u001b[38;5;34m51\u001b[0m │\n",
              "└──────────────────────────────────────┴─────────────────────────────┴─────────────────┘\n"
            ]
          },
          "metadata": {},
          "output_type": "display_data"
        },
        {
          "data": {
            "text/html": [
              "<pre style=\"white-space:pre;overflow-x:auto;line-height:normal;font-family:Menlo,'DejaVu Sans Mono',consolas,'Courier New',monospace\"><span style=\"font-weight: bold\"> Total params: </span><span style=\"color: #00af00; text-decoration-color: #00af00\">131</span> (524.00 B)\n",
              "</pre>\n"
            ],
            "text/plain": [
              "\u001b[1m Total params: \u001b[0m\u001b[38;5;34m131\u001b[0m (524.00 B)\n"
            ]
          },
          "metadata": {},
          "output_type": "display_data"
        },
        {
          "data": {
            "text/html": [
              "<pre style=\"white-space:pre;overflow-x:auto;line-height:normal;font-family:Menlo,'DejaVu Sans Mono',consolas,'Courier New',monospace\"><span style=\"font-weight: bold\"> Trainable params: </span><span style=\"color: #00af00; text-decoration-color: #00af00\">131</span> (524.00 B)\n",
              "</pre>\n"
            ],
            "text/plain": [
              "\u001b[1m Trainable params: \u001b[0m\u001b[38;5;34m131\u001b[0m (524.00 B)\n"
            ]
          },
          "metadata": {},
          "output_type": "display_data"
        },
        {
          "data": {
            "text/html": [
              "<pre style=\"white-space:pre;overflow-x:auto;line-height:normal;font-family:Menlo,'DejaVu Sans Mono',consolas,'Courier New',monospace\"><span style=\"font-weight: bold\"> Non-trainable params: </span><span style=\"color: #00af00; text-decoration-color: #00af00\">0</span> (0.00 B)\n",
              "</pre>\n"
            ],
            "text/plain": [
              "\u001b[1m Non-trainable params: \u001b[0m\u001b[38;5;34m0\u001b[0m (0.00 B)\n"
            ]
          },
          "metadata": {},
          "output_type": "display_data"
        }
      ],
      "source": [
        "# iris 학습 모델 만들기 - 다층 퍼셉트론 모델(Multi-Layer Perceptron, MLP)\n",
        "# 처음에 경고가 나타남\n",
        "\n",
        "iris_model = tf.keras.Sequential([\n",
        "    tf.keras.layers.Dense(16, activation='sigmoid',\n",
        "                          name='fc1', input_shape=(4,)),\n",
        "    tf.keras.layers.Dense(3, name='fc2', activation='softmax')])\n",
        "\n",
        "\"\"\"\n",
        "🔍 상세 설명\n",
        "1️⃣ tf.keras.Sequential([...])\n",
        "Sequential 모델은 여러 층을 순차적으로 쌓는 구조입니다.\n",
        "\n",
        "복잡한 분기나 병렬 연결 없이 단순한 feed-forward 네트워크를 만들 때 사용합니다.\n",
        "\n",
        "2️⃣ Dense(16, activation='sigmoid', name='fc1', input_shape=(4,))\n",
        "🔸 Dense 레이어\n",
        "완전 연결층 (fully connected layer, FC).\n",
        "\n",
        "이 레이어는 입력값에 대해 가중치 곱과 편향을 더한 후, **비선형 함수(sigmoid)**를 적용합니다.\n",
        "\n",
        "🔸 파라미터 설명\n",
        "속성\t설명\n",
        "16\t출력 뉴런 수 → 이 레이어의 출력은 shape (None, 16)\n",
        "activation='sigmoid'\t시그모이드 비선형 활성화 함수 사용 → 0~1 범위\n",
        "name='fc1'\t이 레이어에 대한 명칭 (모델 summary에 표시됨)\n",
        "input_shape=(4,)\t입력 벡터는 4개의 실수 값 (Iris 특성: 꽃받침 길이, 꽃받침 너비, 꽃잎 길이, 꽃잎 너비 등)\n",
        "\n",
        "🔸 파라미터 수\n",
        "가중치: 4(inputs) * 16(outputs) = 64\n",
        "\n",
        "편향: 16\n",
        "\n",
        "총: 64 + 16 = 80개\n",
        "\n",
        "3️⃣ Dense(3, name='fc2', activation='softmax')\n",
        "🔸 출력층 (Output Layer)\n",
        "3개의 노드: Iris의 3개 클래스에 대한 확률 출력\n",
        "\n",
        "예: setosa, versicolor, virginica\n",
        "\n",
        "activation='softmax': 각 클래스에 대한 확률을 나타내며, 전체 합은 1\n",
        "\n",
        "🔸 파라미터 수\n",
        "가중치: 16(inputs) * 3(outputs) = 48\n",
        "\n",
        "편향: 3\n",
        "\n",
        "총: 48 + 3 = 51개\n",
        "\n",
        "📊 전체 요약\n",
        "레이어 이름\t출력 Shape\t파라미터 수\t비고\n",
        "fc1 (Dense)\t(None, 16)\t80\t시그모이드 활성화\n",
        "fc2 (Dense)\t(None, 3)\t51\t소프트맥스 활성화\n",
        "총합\t\t131\t모두 학습 가능\n",
        "\n",
        "🧠 모델의 목적\n",
        "이 모델은 다중 클래스 분류(multi-class classification)를 위한 것입니다. 특히:\n",
        "\n",
        "입력: 4개의 연속형 특성 (Iris 데이터 특성)\n",
        "출력: 각 샘플에 대해 3개 클래스 중 하나의 확률 분포\n",
        "\n",
        "손실 함수로는 일반적으로 categorical_crossentropy 또는 sparse_categorical_crossentropy를 사용합니다.\n",
        "\"\"\"\n",
        "\n",
        "iris_model.summary()"
      ]
    },
    {
      "cell_type": "code",
      "execution_count": null,
      "id": "1feb6dfb-a971-4674-b09f-47244de42f57",
      "metadata": {
        "id": "1feb6dfb-a971-4674-b09f-47244de42f57"
      },
      "outputs": [],
      "source": [
        "# 학습 모델 초기화\n",
        "#iris_model을 학습하기 위한 준비 단계로, 모델의 학습 방식과 평가 지표를 정의\n",
        "\"\"\"\n",
        "🔍 상세 설명\n",
        "1️⃣ optimizer='adam'\n",
        "Adam 옵티마이저는 확률적 경사 하강법(SGD)의 변형 중 하나로, 적응형 학습률을 사용합니다.\n",
        "일반적으로 성능이 좋고 다양한 문제에 잘 작동하기 때문에 기본값처럼 자주 사용됩니다.\n",
        "내부적으로 momentum과 RMSprop을 결합한 알고리즘입니다.\n",
        "\n",
        "2️⃣ loss='sparse_categorical_crossentropy'\n",
        "다중 클래스 분류 문제에서 사용하는 손실 함수입니다.\n",
        "sparse_가 붙은 이유:\n",
        "정답 레이블이 정수 형태 (예: [0, 1, 2])일 때 사용합니다.\n",
        "만약 정답이 one-hot 인코딩(예: [1, 0, 0]) 형태라면 categorical_crossentropy를 사용해야 합니다.\n",
        "Iris 분류 문제에서 일반적으로 y = [0, 1, 2] 같은 정수 레이블을 사용하므로 sparse_ 버전이 적절합니다.\n",
        "\n",
        "3️⃣ metrics=['accuracy']\n",
        "모델 성능 평가 지표로 정확도(accuracy) 를 사용합니다.\n",
        "예측값 중 정답과 일치한 비율을 계산합니다.\n",
        "\n",
        "🎯 전체 의미\n",
        "이 compile() 코드는 다음과 같은 의미입니다:\n",
        "\"Adam 최적화를 사용해서, 정수 레이블을 위한 분류 손실(sparse categorical crossentropy)을 줄이는 방향으로 학습하고, 훈련 및 평가 과정에서 정확도를 모니터링하겠다.\"\n",
        "\"\"\"\n",
        "iris_model.compile(optimizer='adam',\n",
        "                   loss='sparse_categorical_crossentropy',\n",
        "                   metrics=['accuracy'])"
      ]
    },
    {
      "cell_type": "code",
      "execution_count": null,
      "id": "86a224e3-0baa-4479-ab1f-07f02414e088",
      "metadata": {
        "id": "86a224e3-0baa-4479-ab1f-07f02414e088"
      },
      "outputs": [],
      "source": [
        "# 100개의 훈련 데이터로 기계학습 진행하고 결과 바\n",
        "\n",
        "num_epochs = 100\n",
        "training_size = 100\n",
        "batch_size = 2\n",
        "# 반복 단계는 정수 타입이여야 하는데 나누기를 하면 실수 타입이 됨.\n",
        "steps_per_epoch = int(np.ceil(training_size / batch_size))\n",
        "\n",
        "ds_train = ds_train_orig.shuffle(buffer_size=training_size)\n",
        "ds_train = ds_train.repeat()\n",
        "ds_train = ds_train.batch(batch_size=batch_size)\n",
        "ds_train = ds_train.prefetch(buffer_size=1000)\n",
        "\n",
        "history = iris_model.fit(ds_train, epochs=num_epochs,\n",
        "                         steps_per_epoch=steps_per_epoch,\n",
        "                         verbose=0)\n"
      ]
    },
    {
      "cell_type": "code",
      "execution_count": null,
      "id": "a98e8906-86d1-4a54-b254-974c1b0b5672",
      "metadata": {
        "id": "a98e8906-86d1-4a54-b254-974c1b0b5672",
        "outputId": "e9fc0c90-39cd-4575-d1e0-2c461d574b51"
      },
      "outputs": [
        {
          "data": {
            "image/png": "[encoded data removed]",
            "text/plain": [
              "<Figure size 1200x500 with 2 Axes>"
            ]
          },
          "metadata": {},
          "output_type": "display_data"
        }
      ],
      "source": [
        "# 훈련 결과 그래그 출력\n",
        "\n",
        "hist = history.history\n",
        "\n",
        "fig = plt.figure(figsize=(12, 5))\n",
        "ax = fig.add_subplot(1, 2, 1)\n",
        "ax.plot(hist['loss'], lw=3)\n",
        "ax.set_title('Training loss', size=15)\n",
        "ax.set_xlabel('Epoch', size=15)\n",
        "ax.tick_params(axis='both', which='major', labelsize=15)\n",
        "\n",
        "ax = fig.add_subplot(1, 2, 2)\n",
        "ax.plot(hist['accuracy'], lw=3)\n",
        "ax.set_title('Training accuracy', size=15)\n",
        "ax.set_xlabel('Epoch', size=15)\n",
        "ax.tick_params(axis='both', which='major', labelsize=15)\n",
        "plt.tight_layout()\n",
        "# plt.savefig('images/13_7.png', dpi=300)\n",
        "plt.show()"
      ]
    },
    {
      "cell_type": "code",
      "execution_count": null,
      "id": "3e3b85be-bdcb-4262-93e2-c40de68aa94d",
      "metadata": {
        "id": "3e3b85be-bdcb-4262-93e2-c40de68aa94d",
        "outputId": "934a5d22-220d-481c-fd21-9eba777f0247"
      },
      "outputs": [
        {
          "name": "stdout",
          "output_type": "stream",
          "text": [
            "테스트 손실: 0.1435   테스트 정확도: 0.9600\n"
          ]
        }
      ],
      "source": [
        "# 훈련된 모델 평가하기\n",
        "\n",
        "results = iris_model.evaluate(ds_test.batch(50), verbose=0)\n",
        "print('테스트 손실: {:.4f}   테스트 정확도: {:.4f}'.format(*results))"
      ]
    },
    {
      "cell_type": "code",
      "execution_count": null,
      "id": "8632c645-8a06-46dd-bda0-17e8e1993158",
      "metadata": {
        "id": "8632c645-8a06-46dd-bda0-17e8e1993158"
      },
      "outputs": [],
      "source": [
        "# 훈편된 모델 저장하기\n",
        "\n",
        "# iris_model.save('iris-classifier.h5',\n",
        "#                 overwrite=True,\n",
        "#                 include_optimizer=True,\n",
        "#                 save_format='h5')\n",
        "\n",
        "# keras 3 에서 저장 방식이 달라짐.\n",
        "# Keras 3부터는 save_format 인자가 더 이상 필요하지 않고, 파일 확장자에 따라 자동으로 저장 형식이 결정\n",
        "\"\"\"\n",
        "🔁 참고: Keras 3 저장 방식 요약\n",
        "파일명 예\t저장 형식\t비고\n",
        "'model.keras' - Keras v3 전용 포맷 / 권장 (미래 호환)\n",
        "'model.h5' - HDF5 (Keras v2 호환) / 호환성 목적\n",
        "'model'(확장자 없음) - SavedModel 디렉터리 / TF 서빙 등에서 사용\n",
        "\"\"\"\n",
        "\n",
        "iris_model.save('iris-classifier.keras',\n",
        "                overwrite=True,\n",
        "                include_optimizer=True)\n"
      ]
    },
    {
      "cell_type": "code",
      "execution_count": null,
      "id": "b44ff361-fecb-4c53-b7b1-961b1a24c142",
      "metadata": {
        "id": "b44ff361-fecb-4c53-b7b1-961b1a24c142",
        "outputId": "f0a18516-09d3-4c05-8a12-45021d474b1e"
      },
      "outputs": [
        {
          "data": {
            "text/html": [
              "<pre style=\"white-space:pre;overflow-x:auto;line-height:normal;font-family:Menlo,'DejaVu Sans Mono',consolas,'Courier New',monospace\"><span style=\"font-weight: bold\">Model: \"sequential_5\"</span>\n",
              "</pre>\n"
            ],
            "text/plain": [
              "\u001b[1mModel: \"sequential_5\"\u001b[0m\n"
            ]
          },
          "metadata": {},
          "output_type": "display_data"
        },
        {
          "data": {
            "text/html": [
              "<pre style=\"white-space:pre;overflow-x:auto;line-height:normal;font-family:Menlo,'DejaVu Sans Mono',consolas,'Courier New',monospace\">┏━━━━━━━━━━━━━━━━━━━━━━━━━━━━━━━━━━━━━━┳━━━━━━━━━━━━━━━━━━━━━━━━━━━━━┳━━━━━━━━━━━━━━━━━┓\n",
              "┃<span style=\"font-weight: bold\"> Layer (type)                         </span>┃<span style=\"font-weight: bold\"> Output Shape                </span>┃<span style=\"font-weight: bold\">         Param # </span>┃\n",
              "┡━━━━━━━━━━━━━━━━━━━━━━━━━━━━━━━━━━━━━━╇━━━━━━━━━━━━━━━━━━━━━━━━━━━━━╇━━━━━━━━━━━━━━━━━┩\n",
              "│ fc1 (<span style=\"color: #0087ff; text-decoration-color: #0087ff\">Dense</span>)                          │ (<span style=\"color: #00d7ff; text-decoration-color: #00d7ff\">None</span>, <span style=\"color: #00af00; text-decoration-color: #00af00\">16</span>)                  │              <span style=\"color: #00af00; text-decoration-color: #00af00\">80</span> │\n",
              "├──────────────────────────────────────┼─────────────────────────────┼─────────────────┤\n",
              "│ fc2 (<span style=\"color: #0087ff; text-decoration-color: #0087ff\">Dense</span>)                          │ (<span style=\"color: #00d7ff; text-decoration-color: #00d7ff\">None</span>, <span style=\"color: #00af00; text-decoration-color: #00af00\">3</span>)                   │              <span style=\"color: #00af00; text-decoration-color: #00af00\">51</span> │\n",
              "└──────────────────────────────────────┴─────────────────────────────┴─────────────────┘\n",
              "</pre>\n"
            ],
            "text/plain": [
              "┏━━━━━━━━━━━━━━━━━━━━━━━━━━━━━━━━━━━━━━┳━━━━━━━━━━━━━━━━━━━━━━━━━━━━━┳━━━━━━━━━━━━━━━━━┓\n",
              "┃\u001b[1m \u001b[0m\u001b[1mLayer (type)                        \u001b[0m\u001b[1m \u001b[0m┃\u001b[1m \u001b[0m\u001b[1mOutput Shape               \u001b[0m\u001b[1m \u001b[0m┃\u001b[1m \u001b[0m\u001b[1m        Param #\u001b[0m\u001b[1m \u001b[0m┃\n",
              "┡━━━━━━━━━━━━━━━━━━━━━━━━━━━━━━━━━━━━━━╇━━━━━━━━━━━━━━━━━━━━━━━━━━━━━╇━━━━━━━━━━━━━━━━━┩\n",
              "│ fc1 (\u001b[38;5;33mDense\u001b[0m)                          │ (\u001b[38;5;45mNone\u001b[0m, \u001b[38;5;34m16\u001b[0m)                  │              \u001b[38;5;34m80\u001b[0m │\n",
              "├──────────────────────────────────────┼─────────────────────────────┼─────────────────┤\n",
              "│ fc2 (\u001b[38;5;33mDense\u001b[0m)                          │ (\u001b[38;5;45mNone\u001b[0m, \u001b[38;5;34m3\u001b[0m)                   │              \u001b[38;5;34m51\u001b[0m │\n",
              "└──────────────────────────────────────┴─────────────────────────────┴─────────────────┘\n"
            ]
          },
          "metadata": {},
          "output_type": "display_data"
        },
        {
          "data": {
            "text/html": [
              "<pre style=\"white-space:pre;overflow-x:auto;line-height:normal;font-family:Menlo,'DejaVu Sans Mono',consolas,'Courier New',monospace\"><span style=\"font-weight: bold\"> Total params: </span><span style=\"color: #00af00; text-decoration-color: #00af00\">264</span> (1.04 KB)\n",
              "</pre>\n"
            ],
            "text/plain": [
              "\u001b[1m Total params: \u001b[0m\u001b[38;5;34m264\u001b[0m (1.04 KB)\n"
            ]
          },
          "metadata": {},
          "output_type": "display_data"
        },
        {
          "data": {
            "text/html": [
              "<pre style=\"white-space:pre;overflow-x:auto;line-height:normal;font-family:Menlo,'DejaVu Sans Mono',consolas,'Courier New',monospace\"><span style=\"font-weight: bold\"> Trainable params: </span><span style=\"color: #00af00; text-decoration-color: #00af00\">131</span> (524.00 B)\n",
              "</pre>\n"
            ],
            "text/plain": [
              "\u001b[1m Trainable params: \u001b[0m\u001b[38;5;34m131\u001b[0m (524.00 B)\n"
            ]
          },
          "metadata": {},
          "output_type": "display_data"
        },
        {
          "data": {
            "text/html": [
              "<pre style=\"white-space:pre;overflow-x:auto;line-height:normal;font-family:Menlo,'DejaVu Sans Mono',consolas,'Courier New',monospace\"><span style=\"font-weight: bold\"> Non-trainable params: </span><span style=\"color: #00af00; text-decoration-color: #00af00\">0</span> (0.00 B)\n",
              "</pre>\n"
            ],
            "text/plain": [
              "\u001b[1m Non-trainable params: \u001b[0m\u001b[38;5;34m0\u001b[0m (0.00 B)\n"
            ]
          },
          "metadata": {},
          "output_type": "display_data"
        },
        {
          "data": {
            "text/html": [
              "<pre style=\"white-space:pre;overflow-x:auto;line-height:normal;font-family:Menlo,'DejaVu Sans Mono',consolas,'Courier New',monospace\"><span style=\"font-weight: bold\"> Optimizer params: </span><span style=\"color: #00af00; text-decoration-color: #00af00\">133</span> (536.00 B)\n",
              "</pre>\n"
            ],
            "text/plain": [
              "\u001b[1m Optimizer params: \u001b[0m\u001b[38;5;34m133\u001b[0m (536.00 B)\n"
            ]
          },
          "metadata": {},
          "output_type": "display_data"
        }
      ],
      "source": [
        "# 저장된 훈련된 훈련 모델 불러오기 - 2번 실행하세요\n",
        "\n",
        "iris_model_new = tf.keras.models.load_model('iris-classifier.keras')\n",
        "\n",
        "iris_model_new.summary()"
      ]
    },
    {
      "cell_type": "markdown",
      "id": "5abcf704-a347-4f66-9a66-35ada0e67fcf",
      "metadata": {
        "id": "5abcf704-a347-4f66-9a66-35ada0e67fcf"
      },
      "source": [
        "## 훈련된 모델 사용하기"
      ]
    },
    {
      "cell_type": "code",
      "execution_count": null,
      "id": "087daeb1-6a4f-42c8-8c10-aa900e1a5c3f",
      "metadata": {
        "id": "087daeb1-6a4f-42c8-8c10-aa900e1a5c3f",
        "outputId": "e2d64094-582d-4c56-ff41-72f1bbd68a90"
      },
      "outputs": [
        {
          "name": "stdout",
          "output_type": "stream",
          "text": [
            "\u001b[1m1/1\u001b[0m \u001b[32m━━━━━━━━━━━━━━━━━━━━\u001b[0m\u001b[37m\u001b[0m \u001b[1m0s\u001b[0m 73ms/step\n",
            "샘플 1: 예측된 클래스 = 0, 확률 분포 = [9.925505e-01 7.446777e-03 2.705976e-06]\n",
            "샘플 2: 예측된 클래스 = 1, 확률 분포 = [0.02471963 0.923719   0.0515614 ]\n",
            "샘플 3: 예측된 클래스 = 2, 확률 분포 = [6.6757195e-05 3.6790568e-02 9.6314269e-01]\n"
          ]
        }
      ],
      "source": [
        "# 훈련된 모델 사용하기\n",
        "\n",
        "# 예시 입력 데이터: 꽃받침 길이/너비, 꽃잎 길이/너비\n",
        "# 예: [5.1, 3.5, 1.4, 0.2]는 setosa로 분류될 가능성이 높음\n",
        "new_samples = np.array([\n",
        "    [5.1, 3.5, 1.4, 0.2],  # setosa\n",
        "    [6.0, 2.2, 4.0, 1.0],  # versicolor\n",
        "    [6.3, 3.3, 6.0, 2.5]   # virginica\n",
        "], dtype=np.float32)\n",
        "\n",
        "# 예측\n",
        "predictions = iris_model_new.predict(new_samples)\n",
        "\n",
        "# 예측 결과 출력\n",
        "for i, probs in enumerate(predictions):\n",
        "    predicted_class = np.argmax(probs)\n",
        "    print(f\"샘플 {i+1}: 예측된 클래스 = {predicted_class}, 확률 분포 = {probs}\")"
      ]
    },
    {
      "cell_type": "code",
      "execution_count": null,
      "id": "c674e91c-8f53-4720-bd8a-a0af89115b12",
      "metadata": {
        "id": "c674e91c-8f53-4720-bd8a-a0af89115b12"
      },
      "outputs": [],
      "source": []
    }
  ],
  "metadata": {
    "kernelspec": {
      "display_name": "Python 3 (ipykernel)",
      "language": "python",
      "name": "python3"
    },
    "language_info": {
      "codemirror_mode": {
        "name": "ipython",
        "version": 3
      },
      "file_extension": ".py",
      "mimetype": "text/x-python",
      "name": "python",
      "nbconvert_exporter": "python",
      "pygments_lexer": "ipython3",
      "version": "3.12.7"
    },
    "colab": {
      "provenance": [],
      "include_colab_link": true
    }
  },
  "nbformat": 4,
  "nbformat_minor": 5
}