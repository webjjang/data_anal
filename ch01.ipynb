{
  "nbformat": 4,
  "nbformat_minor": 0,
  "metadata": {
    "colab": {
      "provenance": [],
      "authorship_tag": "ABX9TyOWC1EDFgKUwZzJXvtokW63",
      "include_colab_link": true
    },
    "kernelspec": {
      "name": "python3",
      "display_name": "Python 3"
    },
    "language_info": {
      "name": "python"
    }
  },
  "cells": [
    {
      "cell_type": "markdown",
      "metadata": {
        "id": "view-in-github",
        "colab_type": "text"
      },
      "source": [
        "<a href=\"https://colab.research.google.com/github/webjjang/data_anal/blob/main/ch01.ipynb\" target=\"_parent\"><img src=\"https://colab.research.google.com/assets/colab-badge.svg\" alt=\"Open In Colab\"/></a>"
      ]
    },
    {
      "cell_type": "code",
      "execution_count": null,
      "metadata": {
        "colab": {
          "base_uri": "https://localhost:8080/",
          "height": 54
        },
        "id": "wrAXZM0pO3My",
        "outputId": "1960864c-f433-4029-870c-2d9c1800bb73"
      },
      "outputs": [
        {
          "output_type": "stream",
          "name": "stdout",
          "text": [
            "Hello World\n"
          ]
        },
        {
          "output_type": "execute_result",
          "data": {
            "text/plain": [
              "'Hello World'"
            ],
            "application/vnd.google.colaboratory.intrinsic+json": {
              "type": "string"
            }
          },
          "metadata": {},
          "execution_count": 3
        }
      ],
      "source": [
        "print(\"Hello World\")\n",
        "\"Hello World\""
      ]
    },
    {
      "cell_type": "code",
      "source": [
        "# 대출 정보 다운로드\n",
        "import gdown\n",
        "# download(url, 파일명, 진행표시안보이기설정) - 한개 파일다운 로드\n",
        "# 코랩의 클라우드 공간에 저장\n",
        "gdown.download(\"https://bit.ly/3eecMKZ\",\n",
        "               \"남산도서관 장서 대출목록 (2021년 04월).csv\",\n",
        "               quiet=False)"
      ],
      "metadata": {
        "colab": {
          "base_uri": "https://localhost:8080/",
          "height": 110
        },
        "id": "hcYJuZPqPP5N",
        "outputId": "d371660f-14f1-444c-d995-8507147591fe"
      },
      "execution_count": null,
      "outputs": [
        {
          "output_type": "stream",
          "name": "stderr",
          "text": [
            "Downloading...\n",
            "From: https://bit.ly/3eecMKZ\n",
            "To: /content/남산도서관 장서 대출목록 (2021년 04월).csv\n",
            "100%|██████████| 58.1M/58.1M [00:00<00:00, 175MB/s]\n"
          ]
        },
        {
          "output_type": "execute_result",
          "data": {
            "text/plain": [
              "'남산도서관 장서 대출목록 (2021년 04월).csv'"
            ],
            "application/vnd.google.colaboratory.intrinsic+json": {
              "type": "string"
            }
          },
          "metadata": {},
          "execution_count": 7
        }
      ]
    },
    {
      "cell_type": "code",
      "source": [
        "import requests\n",
        "\n",
        "# 파일을 다운로드할 경로\n",
        "local_filename = '남산도서관 장서 대출목록 (2021년 04월).csv'\n",
        "\n",
        "# 파일 다운로드\n",
        "response = requests.get(\"https://bit.ly/3eecMKZ\", stream=True)\n",
        "\n",
        "# 다운로드한 데이터를 파일로 저장\n",
        "with open(local_filename, 'wb') as f:\n",
        "    for chunk in response.iter_content(chunk_size=128):\n",
        "        f.write(chunk)\n",
        "\n",
        "print(f'파일이 {local_filename} 으로 다운로드되었습니다.')"
      ],
      "metadata": {
        "colab": {
          "base_uri": "https://localhost:8080/"
        },
        "id": "CG9qAkk7t3Gk",
        "outputId": "a89d6603-205d-4a62-8187-55e633dcbc51"
      },
      "execution_count": 18,
      "outputs": [
        {
          "output_type": "stream",
          "name": "stdout",
          "text": [
            "파일이 남산도서관 장서 대출목록 (2021년 04월).csv 으로 다운로드되었습니다.\n"
          ]
        }
      ]
    },
    {
      "cell_type": "code",
      "source": [
        "# utf-8로 읽어오려고 하는데 변환문제 발생.\n",
        "#with open(\"남산도서관 장서 대출목록 (2021년 04월).csv\") as f:\n",
        "#  print(f.readline())\n",
        "\n",
        "# 파일의 엔코딩 방식을 확인해 보자.\n",
        "import chardet\n",
        "# 바이트 단위로 읽기하면 모든 데이터 읽기 가능\n",
        "with open(\"남산도서관 장서 대출목록 (2021년 04월).csv\", mode=\"rb\") as f:\n",
        "  # 한 줄을 읽어 와서 변수에 저장\n",
        "  d = f.readline()\n",
        "print(chardet.detect(d))"
      ],
      "metadata": {
        "colab": {
          "base_uri": "https://localhost:8080/"
        },
        "id": "mLxCNNxApBQm",
        "outputId": "bfe2e71e-2f1d-4743-bf52-6e9ecb957457"
      },
      "execution_count": 13,
      "outputs": [
        {
          "output_type": "stream",
          "name": "stdout",
          "text": [
            "{'encoding': 'EUC-KR', 'confidence': 0.99, 'language': 'Korean'}\n"
          ]
        }
      ]
    },
    {
      "cell_type": "code",
      "source": [
        "# EUC-KR 로 엔코딩해서 파일을 연다.\n",
        "with open(\"남산도서관 장서 대출목록 (2021년 04월).csv\", encoding=\"EUC-KR\") as f:\n",
        "  print(f.readline()) # 제목 줄 입력해서 출력\n",
        "  print(f.readline()) # 첫번째 데이터 입력해서 출력"
      ],
      "metadata": {
        "colab": {
          "base_uri": "https://localhost:8080/"
        },
        "id": "EVP6PHWwuqhj",
        "outputId": "8a981124-fc39-439b-c55b-8b8df7eac20e"
      },
      "execution_count": 15,
      "outputs": [
        {
          "output_type": "stream",
          "name": "stdout",
          "text": [
            "번호,도서명,저자,출판사,발행년도,ISBN,세트 ISBN,부가기호,권,주제분류번호,도서권수,대출건수,등록일자,\n",
            "\n",
            "\"1\",\"인공지능과 흙\",\"김동훈 지음\",\"민음사\",\"2021\",\"9788937444319\",\"\",\"\",\"\",\"\",\"1\",\"0\",\"2021-03-19\",\n",
            "\n"
          ]
        }
      ]
    }
  ]
}